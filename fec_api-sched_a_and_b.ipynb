{
 "cells": [
  {
   "cell_type": "code",
   "execution_count": 0,
   "metadata": {
    "collapsed": true
   },
   "outputs": [],
   "source": []
  },
  {
   "cell_type": "code",
   "execution_count": 0,
   "metadata": {
    "collapsed": false
   },
   "outputs": [
    {
     "name": "stdout",
     "output_type": "stream",
     "text": [
      "Populating the interactive namespace from numpy and matplotlib\n"
     ]
    }
   ],
   "source": [
    "%pylab inline"
   ]
  },
  {
   "cell_type": "code",
   "execution_count": 0,
   "metadata": {
    "collapsed": true
   },
   "outputs": [],
   "source": [
    "import matplotlib.pyplot as plt"
   ]
  },
  {
   "cell_type": "code",
   "execution_count": 0,
   "metadata": {
    "collapsed": false
   },
   "outputs": [],
   "source": [
    "matplotlib.style.use('ggplot')"
   ]
  },
  {
   "cell_type": "markdown",
   "metadata": {},
   "source": [
    "# Imports"
   ]
  },
  {
   "cell_type": "code",
   "execution_count": 0,
   "metadata": {
    "collapsed": true
   },
   "outputs": [],
   "source": [
    "import numpy as np\n",
    "import pandas as pd\n",
    "import requests"
   ]
  },
  {
   "cell_type": "code",
   "execution_count": 0,
   "metadata": {
    "collapsed": true
   },
   "outputs": [],
   "source": [
    "import os\n",
    "import json\n",
    "import time\n",
    "\n",
    "from copy import deepcopy"
   ]
  },
  {
   "cell_type": "code",
   "execution_count": 0,
   "metadata": {
    "collapsed": true
   },
   "outputs": [],
   "source": [
    "import logging\n",
    "logging.basicConfig(format='%(asctime)s : %(levelname)s : %(message)s')\n",
    "logging.getLogger(\"requests\").setLevel(logging.ERROR) # silencing requests logging \n",
    "\n",
    "# Logging for this notebook\n",
    "logger = logging.getLogger()\n",
    "logger.setLevel(logging.INFO) # set this to whatever you'd like"
   ]
  },
  {
   "cell_type": "code",
   "execution_count": 0,
   "metadata": {
    "collapsed": false
   },
   "outputs": [
    {
     "data": {
      "text/plain": [
       "'LC_CTYPE=en_US.utf8;LC_NUMERIC=en_US.UTF-8;LC_TIME=en_US.UTF-8;LC_COLLATE=en_US.utf8;LC_MONETARY=en_US.UTF-8;LC_MESSAGES=en_US.utf8;LC_PAPER=en_US.UTF-8;LC_NAME=en_US.utf8;LC_ADDRESS=en_US.utf8;LC_TELEPHONE=en_US.utf8;LC_MEASUREMENT=en_US.UTF-8;LC_IDENTIFICATION=en_US.utf8'"
      ]
     },
     "execution_count": 7,
     "metadata": {},
     "output_type": "execute_result"
    }
   ],
   "source": [
    "import locale\n",
    "locale.setlocale(locale.LC_ALL, '')"
   ]
  },
  {
   "cell_type": "markdown",
   "metadata": {},
   "source": [
    "# OpenFEC's new API feature: itemized data"
   ]
  },
  {
   "cell_type": "markdown",
   "metadata": {},
   "source": [
    "Not long after we released our initial [how-to](http://sunlightfoundation.com/blog/2015/07/08/openfec-makes-campaign-finance-data-more-accessible-with-new-api-heres-how-to-get-started/) introducing the new [OpenFEC API](https://api.open.fec.gov/developers), the 18f team [announced that they were making even more available](https://18f.gsa.gov/2015/07/15/openfec-api-update/). This made our day, because they quickly ticked off two of the items on the wish list we had published: (1) endpoints for itemized data and (2) per-contributor and per-recipient aggregates. This followup post introduces some of the new additions and why they're so important. "
   ]
  },
  {
   "cell_type": "markdown",
   "metadata": {},
   "source": [
    "## What's (newly) available"
   ]
  },
  {
   "cell_type": "markdown",
   "metadata": {},
   "source": [
    "The [official documentation](https://api.open.fec.gov/developers) for the API is the best source for getting to know what it has to offer, but here are some of the new things you can look forward to interacting with:\n",
    "\n",
    "  1. **Filings** - All of the official records and reports that committees file with the FEC. This includes all of the (many) forms listed on the FEC's [forms page](http://www.fec.gov/info/forms.shtml).\n",
    "  2. **Itemized Receipts** - Schedule A itemizes a committee's receipts from individuals and other organizations. You can now explore the entire list of contributions that make up the receipt totals listed in financial reports.\n",
    "  3. **Itemized Disbursements** - Schedule B itemizes a committee's disbursements such as campaign expenditures, staff payments, or donations to other committees. This gives the line items that make up the disbursement totals listed in financial reports.\n",
    "  4. **Receipt Aggregates** - Aggregates of Schedule A transaction amounts. Users can now obtain totals aggregated by:\n",
    "    - Contributor (limited to contributors with FEC IDs)\n",
    "    - Size\n",
    "    - State\n",
    "    - Zip Code\n",
    "  \n",
    "Needless to say, there are a lot of new questions we can ask with these kinds of resources. Let's dive in."
   ]
  },
  {
   "cell_type": "markdown",
   "metadata": {},
   "source": [
    "# What's new?"
   ]
  },
  {
   "cell_type": "markdown",
   "metadata": {},
   "source": [
    "To review: the base URL is"
   ]
  },
  {
   "cell_type": "code",
   "execution_count": 0,
   "metadata": {
    "collapsed": true
   },
   "outputs": [],
   "source": [
    "BASE_URL = 'http://api.open.fec.gov/v1'"
   ]
  },
  {
   "cell_type": "markdown",
   "metadata": {},
   "source": [
    "You'll also need a data.gov API key, which you can obtain [here](https://api.data.gov/signup/). I save my API keys in a plain text file in my home directory, so that they're always handy and so that I can use them without revealing them in notebooks like this one."
   ]
  },
  {
   "cell_type": "code",
   "execution_count": 0,
   "metadata": {
    "collapsed": true
   },
   "outputs": [],
   "source": [
    "API_KEY = open(os.path.expanduser('~/.api-keys/data.gov'),'r').read().strip()"
   ]
  },
  {
   "cell_type": "markdown",
   "metadata": {},
   "source": [
    "## New endpoints"
   ]
  },
  {
   "cell_type": "markdown",
   "metadata": {},
   "source": [
    "The new additions to the OpenFEC API are the [schedules](https://api.open.fec.gov/developers#!/schedules) endpoints:\n",
    "\n",
    "  - `/committee/{committee_id}/schedules`\n",
    "  - `/schedules`\n",
    "  \n",
    "Under each of these branches are receipts endpoints (sourced from Schedule A):\n",
    "\n",
    "  - `/schedules/schedule_a`\n",
    "  - `/schedules/schedule_a/by_contributor`\n",
    "  - `/schedules/schedule_a/by_size`\n",
    "  - `/schedules/schedule_a/by_state`\n",
    "  - `/schedules/schedule_a/by_zip`\n",
    "  \n",
    "...and the disbursements endpoints (sourced from Schedule B)\n",
    "\n",
    "  - `/schedules/schedule_b`"
   ]
  },
  {
   "cell_type": "markdown",
   "metadata": {},
   "source": [
    "## Documentation"
   ]
  },
  {
   "cell_type": "markdown",
   "metadata": {},
   "source": [
    "We're going to cover a fair bit of ground in this introduction, but for more details on what's possible, check the [official OpenFEC API documentation](https://api.open.fec.gov/developers)."
   ]
  },
  {
   "cell_type": "markdown",
   "metadata": {},
   "source": [
    "# API Wrappers"
   ]
  },
  {
   "cell_type": "markdown",
   "metadata": {},
   "source": [
    "If you'd like, you can use the utility functions supplied in our [previous post](http://sunlightfoundation.com/blog/2015/07/08/openfec-makes-campaign-finance-data-more-accessible-with-new-api-heres-how-to-get-started/) to query the API.\n",
    "\n",
    "There are also, however, a few open source projects on GitHub that are meant to make using the OpenFEC API a bit easier."
   ]
  },
  {
   "cell_type": "markdown",
   "metadata": {},
   "source": [
    "## PyOpenFEC"
   ]
  },
  {
   "cell_type": "markdown",
   "metadata": {},
   "source": [
    "Jeremy Bowers started a python wrapper called [PyOpenFEC](https://github.com/jeremyjbowers/pyopenfec), which I have since made some contributions to. This demonstration will use PyOpenFEC. There are a couple of benefits to using this wrapper:\n",
    "\n",
    "  - **Object Oriented Design** - the real power that an API wrapper can give is a good abstraction over the various endpoints that exist, and some straightforward helper functions that group related resources together\n",
    "  - **Handles Rate Limits** - Itemized records will, of course, require a lot of API calls. The effective rate limit on the OpenFEC API is 100 calls per hour. This wrapper tries to avoid making the API angry by backing off when the user's rate limit is approaching.\n",
    "  \n",
    "PyOpenFEC is not available for installation via `pip` at the moment, but for now you can install it following the instructions in the repository's [README](https://github.com/boblannon/pyopenfec/blob/master/README.md) file.\n",
    "\n",
    "Now you'll need to set an environment variable to store your API key where PyOpenFEC can find it. If you're writing a script and running it from the command line, you can export the env variable just before you call the script:\n",
    "\n",
    "    $>export OPENFEC_API_KEY=your_api_key && python myscript.py\n",
    "    \n",
    "In the IPython notebook, you'll run the `%env` magic."
   ]
  },
  {
   "cell_type": "code",
   "execution_count": 0,
   "metadata": {
    "collapsed": false
   },
   "outputs": [
    {
     "name": "stdout",
     "output_type": "stream",
     "text": [
      "env: OPENFEC_API_KEY=GLIbeNxQRAO4Z5S7buBeMpxiX7AopoSbi5hqSZBI\n"
     ]
    }
   ],
   "source": [
    "%env OPENFEC_API_KEY=GLIbeNxQRAO4Z5S7buBeMpxiX7AopoSbi5hqSZBI"
   ]
  },
  {
   "cell_type": "code",
   "execution_count": 0,
   "metadata": {
    "collapsed": false
   },
   "outputs": [],
   "source": [
    "#%env OPENFEC_API_KEY=your_api_key"
   ]
  },
  {
   "cell_type": "markdown",
   "metadata": {},
   "source": [
    "Then all you need to do is:"
   ]
  },
  {
   "cell_type": "code",
   "execution_count": 0,
   "metadata": {
    "collapsed": true
   },
   "outputs": [],
   "source": [
    "import pyopenfec as api"
   ]
  },
  {
   "cell_type": "markdown",
   "metadata": {},
   "source": [
    "## Other wrappers"
   ]
  },
  {
   "cell_type": "markdown",
   "metadata": {},
   "source": [
    "Underscoring the excitement in the OpenGov community, two other wrappers have also appeared. Check them out, and contribute!\n",
    "  \n",
    "  * [mheadd/openfec](https://github.com/mheadd/openfec) Mark Headd's node.js wrapper\n",
    "  * [tmc/openfec](https://github.com/tmc/openfec) - Travis Cline's Go wrapper"
   ]
  },
  {
   "cell_type": "markdown",
   "metadata": {},
   "source": [
    "# Itemized Records"
   ]
  },
  {
   "cell_type": "markdown",
   "metadata": {},
   "source": [
    "Back on July 31st (a key FEC filing deadline), a [bunch of campaign finance nerds](https://twitter.com/asmith83/lists/fun-with-fec-filings) (including myself) watched more than 780 filings roll in. A few of us were [live-tweeting](https://twitter.com/search?q=from%3ARobertMaguire_%2C%20OR%20from%3Arebeccaballhaus%2C%20OR%20from%3Amjbeckel%2C%20OR%20from%3Alevinecarrie%2C%20OR%20from%3AJDSalant%2C%20OR%20from%3Ateddyschleifer%2C%20OR%20from%3Anickconfessore%2C%20OR%20from%3ABobLannon%2C%20OR%20from%3Adavelevinthal%2C%20OR%20from%3AHotlineScott%2C%20OR%20from%3Agreggiroux%2C%20OR%20from%3Akenvogel%2C%20OR%20from%3AEveryVoice%2C%20OR%20from%3Awjtuck%2C%20OR%20from%3Aapalmerdc%2C%20OR%20from%3AAdamWollner%2C%20OR%20from%3ARobertFaturechi%2C%20OR%20from%3Abykowicz%2C%20OR%20from%3Afschouten%2C%20OR%20from%3AOpenSecretsDC%20since%3A2015-07-31%20until%3A2015-08-01&src=typd&lang=en). This is fun for our kind.\n",
    "\n",
    "\n",
    "Most of the initial reactions that went out were big numbers being reported by PACs. That kind of summary data was previously available when we posted the first OpenFEC API how-to. Some of the more interesting stories, though, took some digging. Itemized receipts and disbursements can sometimes tell us things that the top line numbers can't. \n",
    "\n",
    "Take, for instance, this infographic, which used itemized contributions to show the day-by-day growth of Right to Rise USA, which is a pro-Bush Super PAC:"
   ]
  },
  {
   "cell_type": "markdown",
   "metadata": {},
   "source": [
    "    <blockquote class=\"twitter-tweet\" lang=\"en\"><p lang=\"en\" dir=\"ltr\">Awesome graphic by <a href=\"https://twitter.com/stuartathompson\">@stuartathompson</a>: Bush super PAC&#39;s race to $103 million: <a href=\"http://t.co/58XaTfBRsS\">http://t.co/58XaTfBRsS</a> <a href=\"http://t.co/umh53UtC5w\">pic.twitter.com/umh53UtC5w</a></p>&mdash; Rebecca Ballhaus (@rebeccaballhaus) <a href=\"https://twitter.com/rebeccaballhaus/status/627210125942521856\">July 31, 2015</a></blockquote>"
   ]
  },
  {
   "cell_type": "markdown",
   "metadata": {},
   "source": [
    "Pretty cool, right? The itemized records give us a closer look at the history of contributions to this Super PAC, and we can start to ask why fundraising accelerated more during some periods than others.\n",
    "\n",
    "Itemized records also allow us to dig deeper into the make-up of Super PAC donor lists. As [Idrees Kahloon pointed out](http://sunlightfoundation.com/blog/2015/08/03/outside-groups-influence-on-2016-election-grows-super-pac-filings-show/), for most of the presidential Super PACs, those big dollar aggregates were largely contributed by a small pool of big money donors. For my part, I focused on this element of the incoming filings: "
   ]
  },
  {
   "cell_type": "raw",
   "metadata": {},
   "source": [
    "<div class=\"row\">\n",
    "  <div class=\"span4\">\n",
    "    <blockquote class=\"twitter-tweet\" lang=\"en\">\n",
    "        <p lang=\"en\" dir=\"ltr\">Priorities USA Action (<a href=\"https://twitter.com/HillaryClinton\">@HillaryClinton</a> Super PAC) raises $15M, $7M from top 6 individuals, $2.8M from other PACs <a href=\"http://t.co/fZFe6KlzCX\">http://t.co/fZFe6KlzCX</a></p>&mdash; Bob Lannon (@BobLannon) <a href=\"https://twitter.com/BobLannon/status/627241426506674176\">July 31, 2015</a>\n",
    "    </blockquote>\n",
    "  </div>\n",
    "  <div class=\"span4\" style=\"margin-bottom: 1em;\">\n",
    "    <blockquote class=\"twitter-tweet\" lang=\"en\">\n",
    "        <p lang=\"en\" dir=\"ltr\">Conservative Solutions (pro-Rubio Super PAC) raises $16M, with $12.5M from top 4 donors <a href=\"http://t.co/U7Ju5tbtT9\">http://t.co/U7Ju5tbtT9</a></p>&mdash; Bob Lannon (@BobLannon) <a href=\"https://twitter.com/BobLannon/status/627205304577617920\">July 31, 2015</a>\n",
    "    </blockquote>\n",
    "  </div>\n",
    "</div>\n",
    "<div class=\"row\">\n",
    "  <div class=\"span4\">\n",
    "    <blockquote class=\"twitter-tweet\" lang=\"en\">\n",
    "        <p lang=\"en\" dir=\"ltr\">Local <a href=\"https://twitter.com/32BJ_SEIU\">@32BJ_SEIU</a> Super PAC raises $1.1M in small-dollar donations for the mothership: <a href=\"http://t.co/1BTaiDgChv\">http://t.co/1BTaiDgChv</a> <a href=\"http://t.co/prLtu0C7Hd\">http://t.co/prLtu0C7Hd</a></p>&mdash; Bob Lannon (@BobLannon) <a href=\"https://twitter.com/BobLannon/status/627149887260372992\">July 31, 2015</a>\n",
    "    </blockquote>\n",
    "  </div>\n",
    "  <div class=\"span4\" style=\"margin-bottom: 1em;\">\n",
    "    <blockquote class=\"twitter-tweet\" lang=\"en\">\n",
    "        <p lang=\"en\" dir=\"ltr\">Pursuing America&#39;s Greatness (<a href=\"https://twitter.com/GovMikeHuckabee\">@GovMikeHuckabee</a> Super PAC) reports $3.6M, mostly from CEO of Mountainair Corp: <a href=\"http://t.co/FHWBxXAGry\">http://t.co/FHWBxXAGry</a></p>&mdash; Bob Lannon (@BobLannon) <a href=\"https://twitter.com/BobLannon/status/627146645642149888\">July 31, 2015</a>\n",
    "    </blockquote>\n",
    "  </div>\n",
    "</div>"
   ]
  },
  {
   "cell_type": "markdown",
   "metadata": {},
   "source": [
    "Okay, enough retweeting. Let's see how you can use the OpenFEC API to dig into these itemized contributions and disbursements"
   ]
  },
  {
   "cell_type": "markdown",
   "metadata": {},
   "source": [
    "## Itemized Receipts (Schedule A)"
   ]
  },
  {
   "cell_type": "markdown",
   "metadata": {},
   "source": [
    "To get used to using PyOpenFEC, let's search for one of the presidential Super PACs above. The classes in this wrapper have class methods for accessing results (eg, `count`, `fetch`), but also produce instances of that class as a result. For example, the `Committee` class has a `search` method that can be called which will return objects that are instances of the `Committee` class:"
   ]
  },
  {
   "cell_type": "code",
   "execution_count": 0,
   "metadata": {
    "collapsed": false
   },
   "outputs": [],
   "source": [
    "promise_keepers = [c for c in api.Committee.search('Keep the Promise')]"
   ]
  },
  {
   "cell_type": "code",
   "execution_count": 0,
   "metadata": {
    "collapsed": false
   },
   "outputs": [
    {
     "data": {
      "text/plain": [
       "[<pyopenfec.committee.Committee at 0x7f744891b690>,\n",
       " <pyopenfec.committee.Committee at 0x7f744891b1d0>,\n",
       " <pyopenfec.committee.Committee at 0x7f744891b290>,\n",
       " <pyopenfec.committee.Committee at 0x7f744891b750>,\n",
       " <pyopenfec.committee.Committee at 0x7f744892d750>]"
      ]
     },
     "execution_count": 15,
     "metadata": {},
     "output_type": "execute_result"
    }
   ],
   "source": [
    "promise_keepers"
   ]
  },
  {
   "cell_type": "code",
   "execution_count": 0,
   "metadata": {
    "collapsed": false
   },
   "outputs": [
    {
     "name": "stdout",
     "output_type": "stream",
     "text": [
      "[0] C99002503: COMMITTEE FOR THE EARLY RETIREMENT OF SENATORS WHO DON'T KEEP THEIR CAMPAIGN PROMISES (U)\n",
      "[1] C00575373: KEEP THE PROMISE I (O)\n",
      "[2] C00575431: KEEP THE PROMISE II (O)\n",
      "[3] C00575423: KEEP THE PROMISE III (O)\n",
      "[4] C00575415: KEEP THE PROMISE PAC (O)\n"
     ]
    }
   ],
   "source": [
    "for i,p in enumerate(promise_keepers):\n",
    "    print('[{i}] {id}: {n} ({t})'.format(i=i, id=p.committee_id, n=p.name, \n",
    "                                         t=p.committee_type) )"
   ]
  },
  {
   "cell_type": "markdown",
   "metadata": {},
   "source": [
    "Okay, that first one is hilarious. But let's focus on items 1-4 in that array, which are the pro-Cruz Super PACs."
   ]
  },
  {
   "cell_type": "code",
   "execution_count": 0,
   "metadata": {
    "collapsed": false
   },
   "outputs": [],
   "source": [
    "ktp_i = promise_keepers[1]\n",
    "ktp_ii = promise_keepers[2]\n",
    "ktp_iii = promise_keepers[3]\n",
    "ktp = promise_keepers[4]"
   ]
  },
  {
   "cell_type": "markdown",
   "metadata": {},
   "source": [
    "The `Committee` objects have helper functions for grabbing associated filings, reports, histories, etc."
   ]
  },
  {
   "cell_type": "code",
   "execution_count": 0,
   "metadata": {
    "collapsed": false
   },
   "outputs": [
    {
     "data": {
      "text/plain": [
       "11007100"
      ]
     },
     "execution_count": 18,
     "metadata": {},
     "output_type": "execute_result"
    }
   ],
   "source": [
    "ktp_i.totals[2016].receipts"
   ]
  },
  {
   "cell_type": "markdown",
   "metadata": {},
   "source": [
    "Let's see how much each of these Super PACs brought in:"
   ]
  },
  {
   "cell_type": "code",
   "execution_count": 0,
   "metadata": {
    "collapsed": false
   },
   "outputs": [
    {
     "name": "stdout",
     "output_type": "stream",
     "text": [
      "KEEP THE PROMISE PAC: $1,826,500.00\n",
      "KEEP THE PROMISE I: $11,007,100.00\n",
      "KEEP THE PROMISE II: $10,000,000.00\n",
      "KEEP THE PROMISE III: $15,000,000.00\n"
     ]
    }
   ],
   "source": [
    "for c in [ktp, ktp_i, ktp_ii, ktp_iii]:\n",
    "    total_receipts = locale.currency(c.totals[2016].receipts, grouping=True)\n",
    "    print(\"{c}: {r}\".format(c=c.name, r=total_receipts))"
   ]
  },
  {
   "cell_type": "markdown",
   "metadata": {},
   "source": [
    "That's a bunch of money, but let's dig deeper.\n",
    "\n",
    "There was a lot of speculation, but it wasn't clear to those watching the race why Cruz set up so many different Super PACs. Let's see what the itemized receipts can tell us:"
   ]
  },
  {
   "cell_type": "code",
   "execution_count": 0,
   "metadata": {
    "collapsed": true
   },
   "outputs": [],
   "source": [
    "ktp_i_receipts = [r for r in ktp_i.all_receipts()]"
   ]
  },
  {
   "cell_type": "code",
   "execution_count": 0,
   "metadata": {
    "collapsed": false
   },
   "outputs": [
    {
     "data": {
      "text/plain": [
       "{'amendment_indicator': None,\n",
       " 'back_reference_schedule_name': None,\n",
       " 'back_reference_transaction_id': None,\n",
       " 'committee': {u'city': u'PORT JEFFERSON STA',\n",
       "  u'committee_id': u'C00575373',\n",
       "  u'committee_type': u'O',\n",
       "  u'committee_type_full': u'Super PAC (Independent Expenditure-Only)',\n",
       "  u'cycle': 2016,\n",
       "  u'cycles': [2016],\n",
       "  u'designation': u'U',\n",
       "  u'designation_full': u'Unauthorized',\n",
       "  u'expire_date': None,\n",
       "  u'name': u'KEEP THE PROMISE I',\n",
       "  u'organization_type': None,\n",
       "  u'organization_type_full': None,\n",
       "  u'party': None,\n",
       "  u'party_full': None,\n",
       "  u'state': u'NY',\n",
       "  u'state_full': u'New York   ',\n",
       "  u'street_1': u'2 ROOSEVELT AVENUE',\n",
       "  u'street_2': None,\n",
       "  u'treasurer_name': u'JACQUELYN JAMES',\n",
       "  u'zip': u'11776'},\n",
       " 'committee_id': u'C00575373',\n",
       " 'contributor': None,\n",
       " 'contributor_aggregate_ytd': 1490.63,\n",
       " 'contributor_city': u'SAN ANTONIO',\n",
       " 'contributor_employer': None,\n",
       " 'contributor_first_name': None,\n",
       " 'contributor_id': None,\n",
       " 'contributor_last_name': None,\n",
       " 'contributor_middle_name': None,\n",
       " 'contributor_name': u'CHASE BANK',\n",
       " 'contributor_occupation': None,\n",
       " 'contributor_prefix': None,\n",
       " 'contributor_receipt_amount': 863.0,\n",
       " 'contributor_receipt_date': None,\n",
       " 'contributor_state': u'TX',\n",
       " 'contributor_suffix': None,\n",
       " 'contributor_zip': u'78265',\n",
       " 'election_type': None,\n",
       " 'election_type_full': None,\n",
       " 'entity_type': u'ORG',\n",
       " 'file_number': 1019912,\n",
       " 'filing_form': u'F3X',\n",
       " 'filing_type': u'E',\n",
       " 'form_type': u'SA17',\n",
       " 'form_type_full': None,\n",
       " 'image_number': u'201507319000522149',\n",
       " 'increased_limit': None,\n",
       " 'line_number': 17,\n",
       " 'link_id': 4073120151248079627,\n",
       " 'load_date': u'2015-08-07T01:31:39+00:00',\n",
       " 'memo_text': None,\n",
       " 'memoed_subtotal': False,\n",
       " 'national_committee_nonfederal_account': None,\n",
       " 'original_sub_id': 0,\n",
       " 'pdf_url': u'http://docquery.fec.gov/cgi-bin/fecimg/?201507319000522149',\n",
       " 'receipt_date': None,\n",
       " 'receipt_type': None,\n",
       " 'receipt_type_full': u'INTEREST INCOME',\n",
       " 'record_number': None,\n",
       " 'report_primary_general': None,\n",
       " 'report_type': u'MY',\n",
       " 'report_year': 2015,\n",
       " 'sched_a_sk': 236160817,\n",
       " 'status': u'0',\n",
       " 'sub_id': 4080520151248357015,\n",
       " 'tran_id': u'SA17.4116',\n",
       " 'transaction_id': 4930493,\n",
       " 'update_date': None}"
      ]
     },
     "execution_count": 21,
     "metadata": {},
     "output_type": "execute_result"
    }
   ],
   "source": [
    "ktp_i_receipts[0].to_dict()"
   ]
  },
  {
   "cell_type": "markdown",
   "metadata": {},
   "source": [
    "Lots of information in there. Let's do some sorting and figure out who the big dollar donors are."
   ]
  },
  {
   "cell_type": "code",
   "execution_count": 0,
   "metadata": {
    "collapsed": false
   },
   "outputs": [
    {
     "data": {
      "text/html": [
       "<div style=\"max-height:1000px;max-width:1500px;overflow:auto;\">\n",
       "<table border=\"1\" class=\"dataframe\">\n",
       "  <thead>\n",
       "    <tr style=\"text-align: right;\">\n",
       "      <th></th>\n",
       "      <th>contributor_name</th>\n",
       "      <th>contributor_receipt_amount</th>\n",
       "    </tr>\n",
       "  </thead>\n",
       "  <tbody>\n",
       "    <tr>\n",
       "      <th>4</th>\n",
       "      <td>MERCER, ROBERT</td>\n",
       "      <td>11000000.00</td>\n",
       "    </tr>\n",
       "    <tr>\n",
       "      <th>3</th>\n",
       "      <td>HANLEY, WILLIAM LEE JR.</td>\n",
       "      <td>5000.00</td>\n",
       "    </tr>\n",
       "    <tr>\n",
       "      <th>0</th>\n",
       "      <td>CHASE BANK</td>\n",
       "      <td>863.00</td>\n",
       "    </tr>\n",
       "    <tr>\n",
       "      <th>2</th>\n",
       "      <td>CHASE BANK</td>\n",
       "      <td>627.63</td>\n",
       "    </tr>\n",
       "    <tr>\n",
       "      <th>1</th>\n",
       "      <td>CHASE BANK</td>\n",
       "      <td>405.37</td>\n",
       "    </tr>\n",
       "  </tbody>\n",
       "</table>\n",
       "</div>"
      ],
      "text/plain": [
       "          contributor_name  contributor_receipt_amount\n",
       "4           MERCER, ROBERT                 11000000.00\n",
       "3  HANLEY, WILLIAM LEE JR.                     5000.00\n",
       "0               CHASE BANK                      863.00\n",
       "2               CHASE BANK                      627.63\n",
       "1               CHASE BANK                      405.37"
      ]
     },
     "execution_count": 22,
     "metadata": {},
     "output_type": "execute_result"
    }
   ],
   "source": [
    "ktp_i_receipts_df = pd.DataFrame([r.to_dict() for r in ktp_i_receipts])\n",
    "ktp_i_receipts_df.sort('contributor_receipt_amount', ascending=False)[\n",
    "    ['contributor_name', 'contributor_receipt_amount']\n",
    "    ]"
   ]
  },
  {
   "cell_type": "markdown",
   "metadata": {},
   "source": [
    "Ah ha!  It looks like the money associated with Keep The Promise I was almost entirely from one donor. Maybe this holds true for all of the others."
   ]
  },
  {
   "cell_type": "code",
   "execution_count": 0,
   "metadata": {
    "collapsed": true
   },
   "outputs": [],
   "source": [
    "cruz_super_pac_receipts = []\n",
    "\n",
    "for c in [ktp_i, ktp_ii, ktp_iii]:\n",
    "    for r in c.all_receipts():\n",
    "        cruz_super_pac_receipts.append(r.to_dict())"
   ]
  },
  {
   "cell_type": "code",
   "execution_count": 0,
   "metadata": {
    "collapsed": true
   },
   "outputs": [],
   "source": [
    "cruz_super_pac_receipts_df = pd.DataFrame(cruz_super_pac_receipts)"
   ]
  },
  {
   "cell_type": "markdown",
   "metadata": {},
   "source": [
    "(quick fix, here, to make it easier to display the committees' names)"
   ]
  },
  {
   "cell_type": "code",
   "execution_count": 0,
   "metadata": {
    "collapsed": true
   },
   "outputs": [],
   "source": [
    "cruz_super_pac_receipts_df['committee_name'] = cruz_super_pac_receipts_df['committee'].map(lambda x: x['name'])"
   ]
  },
  {
   "cell_type": "markdown",
   "metadata": {},
   "source": [
    "For each committee, we'll take the top 10 donors by contribution amount (using the pandas `head()` function)."
   ]
  },
  {
   "cell_type": "code",
   "execution_count": 0,
   "metadata": {
    "collapsed": false
   },
   "outputs": [
    {
     "data": {
      "text/html": [
       "<div style=\"max-height:1000px;max-width:1500px;overflow:auto;\">\n",
       "<table border=\"1\" class=\"dataframe\">\n",
       "  <thead>\n",
       "    <tr style=\"text-align: right;\">\n",
       "      <th></th>\n",
       "      <th>committee_name</th>\n",
       "      <th>contributor_name</th>\n",
       "      <th>contributor_receipt_amount</th>\n",
       "    </tr>\n",
       "  </thead>\n",
       "  <tbody>\n",
       "    <tr>\n",
       "      <th>7</th>\n",
       "      <td>KEEP THE PROMISE III</td>\n",
       "      <td>WILKS, FARRIS</td>\n",
       "      <td>5000000.00</td>\n",
       "    </tr>\n",
       "    <tr>\n",
       "      <th>8</th>\n",
       "      <td>KEEP THE PROMISE III</td>\n",
       "      <td>WILKS, JO ANN</td>\n",
       "      <td>5000000.00</td>\n",
       "    </tr>\n",
       "    <tr>\n",
       "      <th>6</th>\n",
       "      <td>KEEP THE PROMISE III</td>\n",
       "      <td>WILKS, DANIEL</td>\n",
       "      <td>2500000.00</td>\n",
       "    </tr>\n",
       "    <tr>\n",
       "      <th>9</th>\n",
       "      <td>KEEP THE PROMISE III</td>\n",
       "      <td>WILKS, STACI</td>\n",
       "      <td>2500000.00</td>\n",
       "    </tr>\n",
       "    <tr>\n",
       "      <th>5</th>\n",
       "      <td>KEEP THE PROMISE II</td>\n",
       "      <td>NEUGEBAUER, TOBY</td>\n",
       "      <td>10000000.00</td>\n",
       "    </tr>\n",
       "    <tr>\n",
       "      <th>4</th>\n",
       "      <td>KEEP THE PROMISE I</td>\n",
       "      <td>MERCER, ROBERT</td>\n",
       "      <td>11000000.00</td>\n",
       "    </tr>\n",
       "    <tr>\n",
       "      <th>3</th>\n",
       "      <td>KEEP THE PROMISE I</td>\n",
       "      <td>HANLEY, WILLIAM LEE JR.</td>\n",
       "      <td>5000.00</td>\n",
       "    </tr>\n",
       "    <tr>\n",
       "      <th>0</th>\n",
       "      <td>KEEP THE PROMISE I</td>\n",
       "      <td>CHASE BANK</td>\n",
       "      <td>863.00</td>\n",
       "    </tr>\n",
       "    <tr>\n",
       "      <th>2</th>\n",
       "      <td>KEEP THE PROMISE I</td>\n",
       "      <td>CHASE BANK</td>\n",
       "      <td>627.63</td>\n",
       "    </tr>\n",
       "    <tr>\n",
       "      <th>1</th>\n",
       "      <td>KEEP THE PROMISE I</td>\n",
       "      <td>CHASE BANK</td>\n",
       "      <td>405.37</td>\n",
       "    </tr>\n",
       "  </tbody>\n",
       "</table>\n",
       "</div>"
      ],
      "text/plain": [
       "         committee_name         contributor_name  contributor_receipt_amount\n",
       "7  KEEP THE PROMISE III            WILKS, FARRIS                  5000000.00\n",
       "8  KEEP THE PROMISE III            WILKS, JO ANN                  5000000.00\n",
       "6  KEEP THE PROMISE III            WILKS, DANIEL                  2500000.00\n",
       "9  KEEP THE PROMISE III             WILKS, STACI                  2500000.00\n",
       "5   KEEP THE PROMISE II         NEUGEBAUER, TOBY                 10000000.00\n",
       "4    KEEP THE PROMISE I           MERCER, ROBERT                 11000000.00\n",
       "3    KEEP THE PROMISE I  HANLEY, WILLIAM LEE JR.                     5000.00\n",
       "0    KEEP THE PROMISE I               CHASE BANK                      863.00\n",
       "2    KEEP THE PROMISE I               CHASE BANK                      627.63\n",
       "1    KEEP THE PROMISE I               CHASE BANK                      405.37"
      ]
     },
     "execution_count": 26,
     "metadata": {},
     "output_type": "execute_result"
    }
   ],
   "source": [
    "cruz_super_pac_top_donors = cruz_super_pac_receipts_df.sort(\n",
    "                                                          'contributor_receipt_amount'\n",
    "                                                      ).groupby(\n",
    "                                                          'committee_id'\n",
    "                                                      ).head()\n",
    "\n",
    "cruz_super_pac_top_donors.sort(\n",
    "    ['committee_name', 'contributor_receipt_amount'], ascending=False\n",
    ")[['committee_name', 'contributor_name', 'contributor_receipt_amount']]"
   ]
  },
  {
   "cell_type": "markdown",
   "metadata": {},
   "source": [
    "As [many have reported](http://www.politico.com/story/2015/07/ted-cruz-super-pacs-rake-in-38-million-120889.html), it seems like these Super PACs were apparently tailor-made to collect money from specific individual large-money donors. That's pretty new behavior, but plain to see when we take a look at the itemized receipts."
   ]
  },
  {
   "cell_type": "markdown",
   "metadata": {},
   "source": [
    "## Itemized Disbursements (Schedule B)"
   ]
  },
  {
   "cell_type": "markdown",
   "metadata": {},
   "source": [
    "Digging through the money spent by committees can be just as fun:"
   ]
  },
  {
   "cell_type": "raw",
   "metadata": {},
   "source": [
    "<div class=\"row\">\n",
    "  <div class=\"span4\">\n",
    "<blockquote class=\"twitter-tweet\" lang=\"en\"><p lang=\"en\" dir=\"ltr\">Leadership Matters for America PAC (<a href=\"https://twitter.com/ChrisChristie\">@ChrisChristie</a> SuperPAC) spent more than $600k on private jet charters: <a href=\"http://t.co/MVW5sHCN6v\">http://t.co/MVW5sHCN6v</a></p>&mdash; Bob Lannon (@BobLannon) <a href=\"https://twitter.com/BobLannon/status/627180061918105600\">July 31, 2015</a></blockquote>\n",
    "  </div>\n",
    "</div>\n",
    "<div class=\"row\">\n",
    "  <div class=\"span4\">\n",
    "<blockquote class=\"twitter-tweet\" lang=\"en\"><p lang=\"en\" dir=\"ltr\">Looks like <a href=\"https://twitter.com/GovMikeHuckabee\">@GovMikeHuckabee</a> was using his leadership PAC to lay 2016 groundwork. Spent $750k on direct mail &amp; lists. <a href=\"http://t.co/cCes1tgLWD\">http://t.co/cCes1tgLWD</a></p>&mdash; Kenneth P. Vogel (@kenvogel) <a href=\"https://twitter.com/kenvogel/status/627231403256623105\">July 31, 2015</a></blockquote>\n",
    "  </div>  \n",
    "</div>\n",
    "<div class=\"row\">\n",
    "  <div class=\"span4\">\n",
    "<blockquote class=\"twitter-tweet\" lang=\"en\"><p lang=\"en\" dir=\"ltr\">Even <a href=\"https://twitter.com/GovernorPataki\">@GovernorPataki</a>&#39;s super PAC can pull in $859,000 (<a href=\"http://t.co/MAxSCLlyDk\">http://t.co/MAxSCLlyDk</a>), but it&#39;s spent most of it already <a href=\"http://t.co/b9fyEvvSOJ\">http://t.co/b9fyEvvSOJ</a></p>&mdash; Dave Levinthal (@davelevinthal) <a href=\"https://twitter.com/davelevinthal/status/627234614952755200\">July 31, 2015</a></blockquote>\n",
    "  </div>\n",
    "</div>\n",
    "<div class=\"row\">\n",
    "  <div class=\"span4\">\n",
    "<blockquote class=\"twitter-tweet\" lang=\"en\"><p lang=\"en\" dir=\"ltr\">.<a href=\"https://twitter.com/BlueDogPAC\">@BlueDogPAC</a> disbursements: <a href=\"http://t.co/Q8tjGMwWea\">http://t.co/Q8tjGMwWea</a> Hm, I bet I know where all those fundraising expenses went to: <a href=\"http://t.co/IZX3Yjlj0N\">http://t.co/IZX3Yjlj0N</a></p>&mdash; Bob Lannon (@BobLannon) <a href=\"https://twitter.com/BobLannon/status/627159904302833664\">July 31, 2015</a></blockquote>\n",
    "  </div>  \n",
    "</div>"
   ]
  },
  {
   "cell_type": "markdown",
   "metadata": {},
   "source": [
    "Searching through Keep The Promise I's disbursements, for instance, we can find something pretty surprising:"
   ]
  },
  {
   "cell_type": "code",
   "execution_count": 0,
   "metadata": {
    "collapsed": false
   },
   "outputs": [
    {
     "name": "stdout",
     "output_type": "stream",
     "text": [
      "CARLY FOR AMERICA: $500,000.00\n",
      "THE POLLING COMPANY: $20,000.00\n",
      "BRACEWELL & GIULIANI LLP: $16,169.00\n"
     ]
    }
   ],
   "source": [
    "ktp_i_disbursements = [r for r in ktp_i.all_disbursements()]\n",
    "\n",
    "for d in ktp_i_disbursements:\n",
    "    amt = locale.currency(d.disbursement_amount, grouping=True)\n",
    "    print(\"{r}: {a}\".format(a=amt, r=d.recipient_name))"
   ]
  },
  {
   "cell_type": "markdown",
   "metadata": {},
   "source": [
    "It looks as if their top recipient is Carly for America, which is as Super PAC started by Carly Fiorina. That's pretty strange, and, in fact, it [made news](http://www.cnn.com/2015/07/31/politics/carly-fiorina-super-pac/) that week, with CNN reporting that Keep The Promise I's top donor, Robert Mercer, had given money directly to Fiorina's campaign as well:\n",
    "\n",
    "<blockquote>\n",
    "Though Mercer is heavily investing in Cruz's campaign for president, the financier seems to have also taken a liking to Fiorina -- he cut a $2,700 check to Fiorina's campaign in May. The treasurer of Keep the Promise I, Jacquelyn James-Varga, did not respond to a request for comment. A spokesperson for Carly for America also declined to comment on the sizeable contribution from Keep the Promise I.\n",
    "</blockquote>"
   ]
  },
  {
   "cell_type": "code",
   "execution_count": 0,
   "metadata": {
    "collapsed": true
   },
   "outputs": [],
   "source": []
  }
 ],
 "metadata": {
  "kernelspec": {
   "display_name": "Python 2",
   "language": "python",
   "name": "python2"
  },
  "language_info": {
   "codemirror_mode": {
    "name": "ipython",
    "version": 2
   },
   "file_extension": ".py",
   "mimetype": "text/x-python",
   "name": "python",
   "nbconvert_exporter": "python",
   "pygments_lexer": "ipython2",
   "version": "2.7.8"
  }
 },
 "nbformat": 4,
 "nbformat_minor": 0
}
