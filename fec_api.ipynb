{
 "cells": [
  {
   "cell_type": "code",
   "execution_count": 0,
   "metadata": {
    "collapsed": false
   },
   "outputs": [
    {
     "name": "stdout",
     "output_type": "stream",
     "text": [
      "Populating the interactive namespace from numpy and matplotlib\n"
     ]
    }
   ],
   "source": [
    "%pylab inline"
   ]
  },
  {
   "cell_type": "code",
   "execution_count": 0,
   "metadata": {
    "collapsed": true
   },
   "outputs": [],
   "source": [
    "import matplotlib.pyplot as plt"
   ]
  },
  {
   "cell_type": "code",
   "execution_count": 0,
   "metadata": {
    "collapsed": false
   },
   "outputs": [],
   "source": [
    "matplotlib.style.use('ggplot')"
   ]
  },
  {
   "cell_type": "markdown",
   "metadata": {},
   "source": [
    "# Imports"
   ]
  },
  {
   "cell_type": "code",
   "execution_count": 0,
   "metadata": {
    "collapsed": true
   },
   "outputs": [],
   "source": [
    "import numpy as np\n",
    "import pandas as pd\n",
    "import requests"
   ]
  },
  {
   "cell_type": "code",
   "execution_count": 0,
   "metadata": {
    "collapsed": true
   },
   "outputs": [],
   "source": [
    "import os\n",
    "import json\n",
    "from copy import deepcopy"
   ]
  },
  {
   "cell_type": "code",
   "execution_count": 0,
   "metadata": {
    "collapsed": false
   },
   "outputs": [
    {
     "ename": "IndexError",
     "evalue": "list index out of range",
     "output_type": "error",
     "traceback": [
      "\u001b[1;31m---------------------------------------------------------------------------\u001b[0m",
      "\u001b[1;31mIndexError\u001b[0m                                Traceback (most recent call last)",
      "\u001b[1;32m<ipython-input-3-c84a8cb41534>\u001b[0m in \u001b[0;36m<module>\u001b[1;34m()\u001b[0m\n\u001b[0;32m      1\u001b[0m \u001b[0ma\u001b[0m \u001b[1;33m=\u001b[0m \u001b[1;33m[\u001b[0m\u001b[1;33m]\u001b[0m\u001b[1;33m\u001b[0m\u001b[0m\n\u001b[1;32m----> 2\u001b[1;33m \u001b[0ma\u001b[0m\u001b[1;33m[\u001b[0m\u001b[1;36m7\u001b[0m\u001b[1;33m]\u001b[0m\u001b[1;33m\u001b[0m\u001b[0m\n\u001b[0m",
      "\u001b[1;31mIndexError\u001b[0m: list index out of range"
     ]
    }
   ],
   "source": [
    "a = []\n",
    "a[7]"
   ]
  },
  {
   "cell_type": "code",
   "execution_count": 0,
   "metadata": {
    "collapsed": false
   },
   "outputs": [
    {
     "name": "stdout",
     "output_type": "stream",
     "text": [
      "Object `logging.basicConfig` not found.\n"
     ]
    }
   ],
   "source": [
    "logging.basicConfig?"
   ]
  },
  {
   "cell_type": "code",
   "execution_count": 0,
   "metadata": {
    "collapsed": true
   },
   "outputs": [],
   "source": [
    "import logging\n",
    "logging.basicConfig(format='%(asctime)s : %(levelname)s : %(message)s')\n",
    "logging.getLogger(\"requests\").setLevel(logging.ERROR) # silencing requests logging \n",
    "\n",
    "# Logging for this notebook\n",
    "logger = logging.getLogger()\n",
    "logger.setLevel(logging.INFO) # set this to whatever you'd like"
   ]
  },
  {
   "cell_type": "markdown",
   "metadata": {},
   "source": [
    "# Introduction to the new FEC API"
   ]
  },
  {
   "cell_type": "markdown",
   "metadata": {},
   "source": [
    "Making data accessible through the a modern API is a huge move forward for the Federal Elections Commission. With the help of a team of intrepid 18f developers, FEC is re-thinking both its website and its data offerings to better serve its mission of educating the public with real-time disclosure of campaign finance information. It's part of the larger OpenFEC project, and we think it's a very encouraging sign that this collaboration is going to improve access to a crucial information resource.\n",
    "\n",
    "What follows is meant as both an introduction to what's available through this new resource and a critique of what's working well, and the changes Sunlight would like to see in future releases of the API."
   ]
  },
  {
   "cell_type": "markdown",
   "metadata": {},
   "source": [
    "# Doesn't the FEC already release data?"
   ]
  },
  {
   "cell_type": "markdown",
   "metadata": {},
   "source": [
    "FEC is a model disclosure authority: it has made federal campaign finance data available through a searchable web portal, in bulk csv files, and, most impressively, a live feed of submitted disclosures. On Influence Explorer, we've made use of each of these sources in different ways - most recently turning that live feed into a searchable data resource at http://realtime.influenceexplorer.com.\n",
    "\n",
    "Sunlight has consistently called on government sources to make all data available in bulk. It's difficult to know how a dataset might be used by a researcher, reporter, citizen or advocacy group, so it's important that government bodies release ALL of it in machine-readable bulk files to allow the fullest exploration of what's available and to give context to any given data point. The FEC has historically set an excellent example in making bulk data available. "
   ]
  },
  {
   "cell_type": "markdown",
   "metadata": {},
   "source": [
    "# Additional benefits from an API"
   ]
  },
  {
   "cell_type": "markdown",
   "metadata": {},
   "source": [
    "We think pretty highly of what the FEC already offers, and encourage them to continue to make both bulk and streamed data available. Here at Sunlight, though, we tend to make the data we release available both in bulk and through APIs, because we think that APIs are the right kind of access for particular users and usecases. So what additional advantages are offered by an API?"
   ]
  },
  {
   "cell_type": "markdown",
   "metadata": {},
   "source": [
    "## Selective data views"
   ]
  },
  {
   "cell_type": "markdown",
   "metadata": {},
   "source": [
    "Not every user or developer can effectively make use of bulk data. It typically doesn't fit in an spreadsheet, so the point-and-click crowd can be at a loss right away. Even if you're technically skilled enough to load it into R or pandas, though, you may hit a barrier if the operations you want to carry out require that the data be loaded into memory. \n",
    "\n",
    "Furthermore, a bulk release may contain a lot of data that isn't relevant to a particular usecase or investigation. Let's say I want to look at contributions to House candidates who are Democrats in 2012. If I use the bulk release, I'm going to get a lot of data that's not interesting to me, including all of the contributions to non-candidate PACs, members of other parties, and contributions to presidential or senatorial candidates.\n",
    "\n",
    "Pulling out exactly what you need usually requires loading everything into a database, setting up some indices, and running queries. True, there are some tools for working directly with CSV files, like the excellent [csvkit](https://csvkit.readthedocs.org/en/0.9.1/), but depending on your query, you again might run into memory issues. Good old \\*nix standbys `grep`, `cut`, `sed` and `awk` can also get you pretty far, if you're willing to hone your shell scripts.\n",
    "\n",
    "With an API, though, you can hand off this selection business to the data's source (in this case, FEC's data warehouse). As long as the API supports it, you can formulate your query and retrieve it with confidence. That's an important qualifier, though: The onus is on the API's design team to make sure that the views which are offered meet the needs of its likely users."
   ]
  },
  {
   "cell_type": "markdown",
   "metadata": {},
   "source": [
    "## Aggregate views"
   ]
  },
  {
   "cell_type": "markdown",
   "metadata": {},
   "source": [
    "Another advantage to having an API is the ability to show up-to-date aggregations of the records in your database. This includes totals, rankings, and metadata that might change over time. \n",
    "\n",
    "Again, aggregation is something that anyone can perform on bulk data. That is, anyone with the technical know-how discussed in the last section, and the domain knowledge needed to properly compute aggregates. \n",
    "\n",
    "In the case of FEC data in particular, summing the dollar amounts of individual transactions can be deceptively difficult. Whether or not two amounts can be added together depends on the type of committee, the type of transaction, and sometimes also the type of contributor.\n",
    "\n",
    "A certain level of legal and regulatory expertise is needed when calculating these sums, but might be out of scope for a developer that wants to add or explore some summary statistics from campaign finance, but for whom campaign finance is not the main focus of investigation. Maybe the focus is on projected vote share, and the campaign finance information is going to be added for context. In cases like that, it's useful to source the aggregate totals published by the FEC itself, and an API is a great way to deliver that data."
   ]
  },
  {
   "cell_type": "markdown",
   "metadata": {},
   "source": [
    "## Live data"
   ]
  },
  {
   "cell_type": "markdown",
   "metadata": {},
   "source": [
    "In addition to being more focused and infused with expertise, data views made available through an API can be tied to live data. In the case of the FEC's new API, the data is updated daily. This partially avoids the need for a developer to repeatedly update their database with successive bulk data releases.\n",
    "\n",
    "In fact, for some usecases, an API might obviate the need for a database altogether.  Imagine again the case of a website that shows some other, non-campaign-finance data, such as legislative activity or election results. If campaign finance data could be a helpful addition to that kind of app, the developer can avoid having to build a big addition onto their database by making client-side calls with javascript. The site, which may be backed by a large database, can deliver data in a web app, and then obtain FEC's aggregate totals or summary facts on-the-fly, allowing them to show up if and when the site's designers choose."
   ]
  },
  {
   "cell_type": "markdown",
   "metadata": {},
   "source": [
    "# Brief tour"
   ]
  },
  {
   "cell_type": "markdown",
   "metadata": {},
   "source": [
    "Here's a very quick tour of what you can expect from the OpenFEC API."
   ]
  },
  {
   "cell_type": "markdown",
   "metadata": {},
   "source": [
    "## What's Available"
   ]
  },
  {
   "cell_type": "markdown",
   "metadata": {},
   "source": [
    "The [official documentation](https://api.open.fec.gov/developers) for the API is the best source for getting to know what it has to offer, but here are some of the things you can look forward to interacting with:\n",
    "\n",
    "  1. **Search By Name** - Nearly every question that can be answered with FEC data requires knowing the unique identifiers that FEC has assigned to the entities involved. The search endpoints make acquiring these identifiers straightforward.\n",
    "  2. **Candidate and Committee Details** - Armed with the right identifiers, one can access a lot of important information about any candidate or committee, including location information, FEC designations, and the entity's history.\n",
    "  3. **Financial Reports** - For each committee, you can obtain the top-line numbers describing contributions, reciepts, expenditures and loans. These are sourced from the committee's periodically-filed financial reports. These come complete with links to the PDF (shudder) of the original filing.\n",
    "  4. **Per-Cycle Committee Summaries** - In addition to the individual reports' numbers, the API also makes available top-line numbers aggregated on a per-cycle basis.\n",
    "  \n",
    "In other words, FEC's first API is off to a very promising start. Armed with just this data, there are already a lot of opportunities to keep up with campaign finance during the 2016 election. "
   ]
  },
  {
   "cell_type": "markdown",
   "metadata": {},
   "source": [
    "## Our Wish List"
   ]
  },
  {
   "cell_type": "markdown",
   "metadata": {},
   "source": [
    "While we were excited to see the progress made so far, there's a few things we'd really like to see added to the API.\n",
    "\n",
    "  1. **Endpoints for Itemized Data** - having endpoints dedicated to the itemized transactions that show up on Schedule A (Receipts), Schedule B (Disbursements), and Schedule E (expenditures) should be the first priority for new additions the API. There is a tremendous amount of useful information that is contained in these line items. Without an endpoint for itemized transactions, the bulk data and live feeds still offer much that the API does not. *NOTE: Thanks to the OpenFEC team's [in-the-open development](https://github.com/18F/openFEC) on Github, there's [evidence](https://github.com/18F/openFEC/blob/2022c0a965f878e0c62521d321104a52c9e500e5/webservices/rest.py#L178-L194) that this is on the way!*\n",
    "  2. **Per-Contributor/Per-Recipient Aggregates** - Campaign finance data is essentially the description of the relationships between contributors and their recipients. Endpoints are needed that list (a) the per-contributor, per-cycle aggregate totals of reciepts and (b) the per-recipient, per-cycle aggregate totals of disbursements. It's unfortunate that, given the state of disclosure, these can only include PAC-to-candidate and PAC-to-PAC transactions, but they're very useful nonetheless.\n",
    "  3. **Independent Expenditure Aggregates** - In a world strongly influenced by the behavior of Independent-Expenditure Only PACs (aka Super PACs), it's very important to be able to ask two questions: (a) for a given Super PAC, who have they spent the most money targeting negatively/positively? and (b) for a given candidate, who has spent the most targeting them negatively/positively? This data is available from FEC, but isn't an endpoint, yet."
   ]
  },
  {
   "cell_type": "markdown",
   "metadata": {},
   "source": [
    "# Sunlight from the inside out"
   ]
  },
  {
   "cell_type": "markdown",
   "metadata": {},
   "source": [
    "A quick note: the group of developers working on OpenFEC includes two former Sunlight labs members. We couldn't be prouder of the work they've been doing during their time \"on the inside.\" It's unsurprising, though, that they've been effective at 18f and more specifically on the OpenFEC project. Lindsay Young developed our portal for accessing a live feed Foreign Agent Registration Act, and Alison Rowland was my predecessor as project lead on Influence Explorer. We miss them both, but we're very grateful for the hard work they and their team are putting into improving public access to campaign finance disclosure at the federal level."
   ]
  },
  {
   "cell_type": "markdown",
   "metadata": {},
   "source": [
    "# Exploring the API"
   ]
  },
  {
   "cell_type": "markdown",
   "metadata": {},
   "source": [
    "The base URL for the API is"
   ]
  },
  {
   "cell_type": "code",
   "execution_count": 0,
   "metadata": {
    "collapsed": true
   },
   "outputs": [],
   "source": [
    "BASE_URL = 'http://api.open.fec.gov/v1'"
   ]
  },
  {
   "cell_type": "markdown",
   "metadata": {},
   "source": [
    "You'll also need a data.gov API key, which you can obtain [here](https://api.data.gov/signup/). I save my API keys in a plain text file in my home directory, so that they're always handy and so that I can use them without revealing them in notebooks like this one."
   ]
  },
  {
   "cell_type": "code",
   "execution_count": 0,
   "metadata": {
    "collapsed": true
   },
   "outputs": [],
   "source": [
    "API_KEY = open(os.path.expanduser('~/.api-keys/data.gov'),'r').read().strip()"
   ]
  },
  {
   "cell_type": "markdown",
   "metadata": {},
   "source": [
    "Conceptually, there are 2 main areas of focus for the API: Candidates and Committees. When looking at contributions, however, remember that recipients are always committees. Candidates do not recieve contributions directly: their committees do. Here are the relevant branches:\n",
    "\n",
    "  - `/candidate`: individual candidate information\n",
    "  - `/committee`: individual committee information"
   ]
  },
  {
   "cell_type": "markdown",
   "metadata": {},
   "source": [
    "## Documentation"
   ]
  },
  {
   "cell_type": "markdown",
   "metadata": {},
   "source": [
    "We're going to cover a fair bit of ground in this introduction, but for more details on what's possible, check the [official OpenFEC API documentation](https://api.open.fec.gov/developers)."
   ]
  },
  {
   "cell_type": "markdown",
   "metadata": {},
   "source": [
    "## Helpful Utils"
   ]
  },
  {
   "cell_type": "markdown",
   "metadata": {},
   "source": [
    "Some methods and global vars to help us stay succinct below."
   ]
  },
  {
   "cell_type": "code",
   "execution_count": 0,
   "metadata": {
    "collapsed": false
   },
   "outputs": [],
   "source": [
    "def all_results(endpoint, params):\n",
    "    _params = deepcopy(params)\n",
    "    _params.update({'api_key': API_KEY})\n",
    "    _url = BASE_URL+endpoint\n",
    "    logging.info('querying endpoint: {}'.format(_url))\n",
    "    \n",
    "    initial_resp = requests.get(_url, params=_params)\n",
    "    \n",
    "    logging.debug('full url eg: {}'.format(initial_resp.url))\n",
    "            \n",
    "    initial_data = initial_resp.json()\n",
    "    \n",
    "    num_pages = initial_data['pagination']['pages']\n",
    "    num_records = initial_data['pagination']['count']\n",
    "    logging.info('{p} pages to be retrieved, with {n} records'.format(\n",
    "            p=num_pages, n=num_records))\n",
    "    \n",
    "    current_page = initial_data['pagination']['page']\n",
    "    logging.debug('page {} retrieved'.format(current_page))\n",
    "    \n",
    "    for record in initial_data['results']:\n",
    "        yield record\n",
    "    \n",
    "    while current_page < num_pages:\n",
    "        current_page += 1\n",
    "        _params.update({'page': current_page})\n",
    "        _data = requests.get(_url, params=_params).json()\n",
    "        logging.debug('page {} retrieved'.format(current_page))\n",
    "        for record in _data['results']:\n",
    "            yield record\n",
    "            \n",
    "    logging.info('all pages retrieved')\n",
    "    \n",
    "def count_results(endpoint, params):\n",
    "    _params = deepcopy(params)\n",
    "    _params.update({'api_key': API_KEY})\n",
    "    _url = BASE_URL+endpoint\n",
    "    \n",
    "    _data = requests.get(_url, params=_params).json()\n",
    "    \n",
    "    return _data['pagination']['count']"
   ]
  },
  {
   "cell_type": "markdown",
   "metadata": {},
   "source": [
    "# FEC Identifiers: The Keys to All Data"
   ]
  },
  {
   "cell_type": "markdown",
   "metadata": {},
   "source": [
    "To get data associated with a candidate or a committee, you need to know the identifier that FEC has assigned to that entity. In case you don't have those memorized, though, there are two ways to obtain the IDs that you need: you can search for them, or obtain optionally filtered lists."
   ]
  },
  {
   "cell_type": "markdown",
   "metadata": {},
   "source": [
    "## Searching"
   ]
  },
  {
   "cell_type": "markdown",
   "metadata": {},
   "source": [
    "Data on candidate and committee entities can be found using the search endpoints for each type:\n",
    "\n",
    "- `/candidates/search`\n",
    "- `/committees/search`\n",
    "\n",
    "Let's try looking for a candidate."
   ]
  },
  {
   "cell_type": "code",
   "execution_count": 0,
   "metadata": {
    "collapsed": false
   },
   "outputs": [
    {
     "name": "stderr",
     "output_type": "stream",
     "text": [
      "INFO:root:querying endpoint: http://api.open.fec.gov/v1/candidates/search\n",
      "INFO:root:1 pages to be retrieved, with 3 records\n",
      "INFO:root:all pages retrieved\n"
     ]
    },
    {
     "data": {
      "text/plain": [
       "[{u'active_through': 2000,\n",
       "  u'candidate_id': u'H0IL01087',\n",
       "  u'candidate_status': u'P',\n",
       "  u'candidate_status_full': u'Statutory candidate in a prior cycle',\n",
       "  u'cycles': [2000],\n",
       "  u'district': u'01',\n",
       "  u'election_years': [2000],\n",
       "  u'incumbent_challenge': None,\n",
       "  u'incumbent_challenge_full': u'Unknown',\n",
       "  u'name': u'OBAMA, BARACK H',\n",
       "  u'office': u'H',\n",
       "  u'office_full': u'House',\n",
       "  u'party': u'DEM',\n",
       "  u'party_full': u'Democratic Party',\n",
       "  u'principal_committees': [{u'candidate_ids': [u'H0IL01087'],\n",
       "    u'committee_id': u'C00347583',\n",
       "    u'committee_type': u'H',\n",
       "    u'committee_type_full': u'House',\n",
       "    u'cycles': [2000, 2002, 2004],\n",
       "    u'designation': u'P',\n",
       "    u'designation_full': u'Principal campaign committee',\n",
       "    u'expire_date': None,\n",
       "    u'first_file_date': None,\n",
       "    u'last_file_date': u'2004-10-13T00:00:00+00:00',\n",
       "    u'name': u'OBAMA FOR CONGRESS 2000',\n",
       "    u'organization_type': None,\n",
       "    u'organization_type_full': None,\n",
       "    u'party': u'DEM',\n",
       "    u'party_full': u'Democratic Party',\n",
       "    u'state': u'IL',\n",
       "    u'treasurer_name': u'LIONEL BOLIN'}],\n",
       "  u'state': u'IL'},\n",
       " {u'active_through': 2010,\n",
       "  u'candidate_id': u'S4IL00180',\n",
       "  u'candidate_status': u'C',\n",
       "  u'candidate_status_full': u'Statutory candidate',\n",
       "  u'cycles': [2004, 2006, 2008, 2010],\n",
       "  u'district': None,\n",
       "  u'election_years': [2004, 2010],\n",
       "  u'incumbent_challenge': u'I',\n",
       "  u'incumbent_challenge_full': u'Incumbent',\n",
       "  u'name': u'OBAMA, BARACK',\n",
       "  u'office': u'S',\n",
       "  u'office_full': u'Senate',\n",
       "  u'party': u'DEM',\n",
       "  u'party_full': u'Democratic Party',\n",
       "  u'principal_committees': [{u'candidate_ids': [u'S4IL00180'],\n",
       "    u'committee_id': u'C00411934',\n",
       "    u'committee_type': u'S',\n",
       "    u'committee_type_full': u'Senate',\n",
       "    u'cycles': [2006, 2008, 2010],\n",
       "    u'designation': u'P',\n",
       "    u'designation_full': u'Principal campaign committee',\n",
       "    u'expire_date': u'2015-05-11T00:00:00+00:00',\n",
       "    u'first_file_date': u'2005-05-25T00:00:00+00:00',\n",
       "    u'last_file_date': u'2009-10-19T00:00:00+00:00',\n",
       "    u'name': u'OBAMA 2010 INC',\n",
       "    u'organization_type': None,\n",
       "    u'organization_type_full': None,\n",
       "    u'party': u'DEM',\n",
       "    u'party_full': u'Democratic Party',\n",
       "    u'state': u'IL',\n",
       "    u'treasurer_name': u'HARVEY S WINEBERG'},\n",
       "   {u'candidate_ids': [u'S4IL00180'],\n",
       "    u'committee_id': u'C00381442',\n",
       "    u'committee_type': u'S',\n",
       "    u'committee_type_full': u'Senate',\n",
       "    u'cycles': [2002, 2004, 2006],\n",
       "    u'designation': u'P',\n",
       "    u'designation_full': u'Principal campaign committee',\n",
       "    u'expire_date': None,\n",
       "    u'first_file_date': u'2002-08-22T00:00:00+00:00',\n",
       "    u'last_file_date': u'2005-08-05T00:00:00+00:00',\n",
       "    u'name': u'OBAMA FOR ILLINOIS INC',\n",
       "    u'organization_type': None,\n",
       "    u'organization_type_full': None,\n",
       "    u'party': u'DEM',\n",
       "    u'party_full': u'Democratic Party',\n",
       "    u'state': u'IL',\n",
       "    u'treasurer_name': u'HARVEY S. WINEBERG'}],\n",
       "  u'state': u'IL'},\n",
       " {u'active_through': 2012,\n",
       "  u'candidate_id': u'P80003338',\n",
       "  u'candidate_status': u'C',\n",
       "  u'candidate_status_full': u'Statutory candidate',\n",
       "  u'cycles': [2008, 2010, 2012],\n",
       "  u'district': None,\n",
       "  u'election_years': [2008, 2012],\n",
       "  u'incumbent_challenge': u'I',\n",
       "  u'incumbent_challenge_full': u'Incumbent',\n",
       "  u'name': u'OBAMA, BARACK',\n",
       "  u'office': u'P',\n",
       "  u'office_full': u'President',\n",
       "  u'party': u'DEM',\n",
       "  u'party_full': u'Democratic Party',\n",
       "  u'principal_committees': [{u'candidate_ids': [u'P80003338'],\n",
       "    u'committee_id': u'C00431445',\n",
       "    u'committee_type': u'P',\n",
       "    u'committee_type_full': u'Presidential',\n",
       "    u'cycles': [2008, 2010, 2012, 2014, 2016],\n",
       "    u'designation': u'P',\n",
       "    u'designation_full': u'Principal campaign committee',\n",
       "    u'expire_date': u'2015-05-11T00:00:00+00:00',\n",
       "    u'first_file_date': u'2007-01-16T00:00:00+00:00',\n",
       "    u'last_file_date': u'2013-01-31T00:00:00+00:00',\n",
       "    u'name': u'OBAMA FOR AMERICA',\n",
       "    u'organization_type': None,\n",
       "    u'organization_type_full': None,\n",
       "    u'party': u'DEM',\n",
       "    u'party_full': u'Democratic Party',\n",
       "    u'state': u'IL',\n",
       "    u'treasurer_name': u'NESBITT, MARTIN H'}],\n",
       "  u'state': u'US'}]"
      ]
     },
     "execution_count": 200,
     "metadata": {},
     "output_type": "execute_result"
    }
   ],
   "source": [
    "q_obama = {\n",
    "    'q': 'obama',\n",
    "}\n",
    "\n",
    "[r for r in all_results('/candidates/search', q_obama)]"
   ]
  },
  {
   "cell_type": "markdown",
   "metadata": {},
   "source": [
    "Wait, there are THREE Barack Obama's? Well, not quite. the FEC assigns an identifier each time someone runs for a particular office. Obama has an FEC ID that starts with `P` because he ran for president, but also picked up two more when he ran for seats in the House (`H`) and Senate (`S`).\n",
    "\n",
    "The FEC data doesn't do any formal reconciliation of these records, so it's something to look out for when you're looking at someone's history. For instance, if we were to use `P80003338` to look up Obama's history using the `/candidate/{candidate_id}/history` endpoint, we might expect to see those other identifiers somewhere. Unfortunately, that's not the case:"
   ]
  },
  {
   "cell_type": "code",
   "execution_count": 0,
   "metadata": {
    "collapsed": false
   },
   "outputs": [
    {
     "name": "stderr",
     "output_type": "stream",
     "text": [
      "INFO:root:querying endpoint: http://api.open.fec.gov/v1/candidate/P80003338/history\n",
      "INFO:root:1 pages to be retrieved, with 3 records\n",
      "INFO:root:all pages retrieved\n"
     ]
    },
    {
     "data": {
      "text/plain": [
       "[{u'address_city': u'CHICAGO',\n",
       "  u'address_state': u'IL',\n",
       "  u'address_street_1': u'PO BOX 8102',\n",
       "  u'address_street_2': None,\n",
       "  u'address_zip': u'60680',\n",
       "  u'candidate_id': u'P80003338',\n",
       "  u'candidate_inactive': None,\n",
       "  u'candidate_status': u'C',\n",
       "  u'candidate_status_full': u'Statutory candidate',\n",
       "  u'cycles': [2008, 2010, 2012],\n",
       "  u'district': None,\n",
       "  u'election_years': [2008, 2012],\n",
       "  u'expire_date': None,\n",
       "  u'form_type': u'F2Z',\n",
       "  u'incumbent_challenge': u'I',\n",
       "  u'incumbent_challenge_full': u'Incumbent',\n",
       "  u'load_date': u'2015-05-11T12:15:43+00:00',\n",
       "  u'name': u'OBAMA, BARACK',\n",
       "  u'office': u'P',\n",
       "  u'office_full': u'President',\n",
       "  u'party': u'DEM',\n",
       "  u'party_full': u'Democratic Party',\n",
       "  u'state': u'US',\n",
       "  u'two_year_period': 2012},\n",
       " {u'address_city': u'CHICAGO',\n",
       "  u'address_state': u'IL',\n",
       "  u'address_street_1': u'PO BOX 8102',\n",
       "  u'address_street_2': None,\n",
       "  u'address_zip': u'60680',\n",
       "  u'candidate_id': u'P80003338',\n",
       "  u'candidate_inactive': None,\n",
       "  u'candidate_status': u'C',\n",
       "  u'candidate_status_full': u'Statutory candidate',\n",
       "  u'cycles': [2008, 2010, 2012],\n",
       "  u'district': None,\n",
       "  u'election_years': [2008, 2012],\n",
       "  u'expire_date': u'2015-05-11T00:00:00+00:00',\n",
       "  u'form_type': u'F2',\n",
       "  u'incumbent_challenge': u'O',\n",
       "  u'incumbent_challenge_full': u'Open seat',\n",
       "  u'load_date': u'2015-05-11T12:15:43+00:00',\n",
       "  u'name': u'OBAMA, BARACK',\n",
       "  u'office': u'P',\n",
       "  u'office_full': u'President',\n",
       "  u'party': u'DEM',\n",
       "  u'party_full': u'Democratic Party',\n",
       "  u'state': u'US',\n",
       "  u'two_year_period': 2010},\n",
       " {u'address_city': u'CHICAGO',\n",
       "  u'address_state': u'IL',\n",
       "  u'address_street_1': u'PO BOX 8102',\n",
       "  u'address_street_2': None,\n",
       "  u'address_zip': u'60680',\n",
       "  u'candidate_id': u'P80003338',\n",
       "  u'candidate_inactive': None,\n",
       "  u'candidate_status': u'C',\n",
       "  u'candidate_status_full': u'Statutory candidate',\n",
       "  u'cycles': [2008, 2010, 2012],\n",
       "  u'district': None,\n",
       "  u'election_years': [2008, 2012],\n",
       "  u'expire_date': u'2015-05-11T00:00:00+00:00',\n",
       "  u'form_type': u'F2',\n",
       "  u'incumbent_challenge': u'O',\n",
       "  u'incumbent_challenge_full': u'Open seat',\n",
       "  u'load_date': u'2015-05-11T12:15:43+00:00',\n",
       "  u'name': u'OBAMA, BARACK',\n",
       "  u'office': u'P',\n",
       "  u'office_full': u'President',\n",
       "  u'party': u'DEM',\n",
       "  u'party_full': u'Democratic Party',\n",
       "  u'state': u'US',\n",
       "  u'two_year_period': 2008}]"
      ]
     },
     "execution_count": 35,
     "metadata": {},
     "output_type": "execute_result"
    }
   ],
   "source": [
    "[r for r in all_results('/candidate/P80003338/history', {})]"
   ]
  },
  {
   "cell_type": "markdown",
   "metadata": {},
   "source": [
    "## Listing"
   ]
  },
  {
   "cell_type": "markdown",
   "metadata": {},
   "source": [
    "We can also obtain a list of many candidates, applying optional filtering constraints if we don't want the ENTIRE list. This can be done at the `/candidates` endpoint. The metadata in the records returned can help when building a local reference resource or lookup table."
   ]
  },
  {
   "cell_type": "code",
   "execution_count": 0,
   "metadata": {
    "collapsed": true
   },
   "outputs": [],
   "source": [
    "q_all_2012_candidates = {\n",
    "    \"cycle\": 2012,\n",
    "}"
   ]
  },
  {
   "cell_type": "markdown",
   "metadata": {},
   "source": [
    "This query is going to return a LOT of candidates:"
   ]
  },
  {
   "cell_type": "code",
   "execution_count": 0,
   "metadata": {
    "collapsed": false
   },
   "outputs": [
    {
     "data": {
      "text/plain": [
       "3024"
      ]
     },
     "execution_count": 14,
     "metadata": {},
     "output_type": "execute_result"
    }
   ],
   "source": [
    "count_results('/candidates', q_all_2012_candidates)"
   ]
  },
  {
   "cell_type": "markdown",
   "metadata": {},
   "source": [
    "You can limit the list by specifying the `candidate_status`. Most of the time, what we care about are candidates with `candidate_status=C`, which means they are a declared candidate who has raised at least $5,000 in that cycle. "
   ]
  },
  {
   "cell_type": "code",
   "execution_count": 0,
   "metadata": {
    "collapsed": true
   },
   "outputs": [],
   "source": [
    "q_all_2012_present_candidates = {\n",
    "    \"cycle\": 2012,\n",
    "    \"candidate_status\": \"C\"\n",
    "}"
   ]
  },
  {
   "cell_type": "code",
   "execution_count": 0,
   "metadata": {
    "collapsed": false
   },
   "outputs": [
    {
     "data": {
      "text/plain": [
       "1885"
      ]
     },
     "execution_count": 16,
     "metadata": {},
     "output_type": "execute_result"
    }
   ],
   "source": [
    "count_results('/candidates', q_all_2012_present_candidates)"
   ]
  },
  {
   "cell_type": "markdown",
   "metadata": {},
   "source": [
    "It's true that we're looking at all federal races in 2012, but that's still a pretty big number. Let's pull that data down and see how it looks."
   ]
  },
  {
   "cell_type": "code",
   "execution_count": 0,
   "metadata": {
    "collapsed": false,
    "scrolled": true
   },
   "outputs": [
    {
     "name": "stderr",
     "output_type": "stream",
     "text": [
      "INFO:root:querying endpoint: http://api.open.fec.gov/v1/candidates\n",
      "INFO:root:95 pages to be retrieved, with 1885 records\n",
      "INFO:root:all pages retrieved\n"
     ]
    }
   ],
   "source": [
    "candidates_2012 = [c for c in all_results('/candidates', q_all_2012_present_candidates)]"
   ]
  },
  {
   "cell_type": "code",
   "execution_count": 0,
   "metadata": {
    "collapsed": false
   },
   "outputs": [
    {
     "data": {
      "text/plain": [
       "[{u'active_through': 2012,\n",
       "  u'candidate_id': u'P80003338',\n",
       "  u'candidate_status': u'C',\n",
       "  u'candidate_status_full': u'Statutory candidate',\n",
       "  u'cycles': [2008, 2010, 2012],\n",
       "  u'district': None,\n",
       "  u'election_years': [2008, 2012],\n",
       "  u'incumbent_challenge': u'I',\n",
       "  u'incumbent_challenge_full': u'Incumbent',\n",
       "  u'name': u'OBAMA, BARACK',\n",
       "  u'office': u'P',\n",
       "  u'office_full': u'President',\n",
       "  u'party': u'DEM',\n",
       "  u'party_full': u'Democratic Party',\n",
       "  u'state': u'US'}]"
      ]
     },
     "execution_count": 18,
     "metadata": {},
     "output_type": "execute_result"
    }
   ],
   "source": [
    "[c for c in candidates_2012 if 'OBAMA' in c['name']]"
   ]
  },
  {
   "cell_type": "code",
   "execution_count": 0,
   "metadata": {
    "collapsed": false
   },
   "outputs": [],
   "source": [
    "candidates_2012_df = pd.DataFrame(candidates_2012)"
   ]
  },
  {
   "cell_type": "code",
   "execution_count": 0,
   "metadata": {
    "collapsed": false
   },
   "outputs": [
    {
     "data": {
      "text/html": [
       "<div style=\"max-height:1000px;max-width:1500px;overflow:auto;\">\n",
       "<table border=\"1\" class=\"dataframe\">\n",
       "  <thead>\n",
       "    <tr style=\"text-align: right;\">\n",
       "      <th></th>\n",
       "      <th>active_through</th>\n",
       "      <th>candidate_id</th>\n",
       "      <th>candidate_status</th>\n",
       "      <th>candidate_status_full</th>\n",
       "      <th>cycles</th>\n",
       "      <th>district</th>\n",
       "      <th>election_years</th>\n",
       "      <th>incumbent_challenge</th>\n",
       "      <th>incumbent_challenge_full</th>\n",
       "      <th>name</th>\n",
       "      <th>office</th>\n",
       "      <th>office_full</th>\n",
       "      <th>party</th>\n",
       "      <th>party_full</th>\n",
       "      <th>state</th>\n",
       "    </tr>\n",
       "  </thead>\n",
       "  <tbody>\n",
       "    <tr>\n",
       "      <th>0</th>\n",
       "      <td>2012</td>\n",
       "      <td>S2UT00229</td>\n",
       "      <td>C</td>\n",
       "      <td>Statutory candidate</td>\n",
       "      <td>[2012]</td>\n",
       "      <td>None</td>\n",
       "      <td>[2012]</td>\n",
       "      <td>C</td>\n",
       "      <td>Challenger</td>\n",
       "      <td>AALDERS, TIMOTHY NOEL</td>\n",
       "      <td>S</td>\n",
       "      <td>Senate</td>\n",
       "      <td>REP</td>\n",
       "      <td>Republican Party</td>\n",
       "      <td>UT</td>\n",
       "    </tr>\n",
       "    <tr>\n",
       "      <th>1</th>\n",
       "      <td>2012</td>\n",
       "      <td>H2CA01110</td>\n",
       "      <td>C</td>\n",
       "      <td>Statutory candidate</td>\n",
       "      <td>[2012]</td>\n",
       "      <td>01</td>\n",
       "      <td>[2012]</td>\n",
       "      <td>C</td>\n",
       "      <td>Challenger</td>\n",
       "      <td>AANESTAD, SAMUEL</td>\n",
       "      <td>H</td>\n",
       "      <td>House</td>\n",
       "      <td>REP</td>\n",
       "      <td>Republican Party</td>\n",
       "      <td>CA</td>\n",
       "    </tr>\n",
       "    <tr>\n",
       "      <th>2</th>\n",
       "      <td>2012</td>\n",
       "      <td>H2AZ02279</td>\n",
       "      <td>C</td>\n",
       "      <td>Statutory candidate</td>\n",
       "      <td>[2012]</td>\n",
       "      <td>02</td>\n",
       "      <td>[2012]</td>\n",
       "      <td>C</td>\n",
       "      <td>Challenger</td>\n",
       "      <td>ABOUD, PAULA ANN</td>\n",
       "      <td>H</td>\n",
       "      <td>House</td>\n",
       "      <td>DEM</td>\n",
       "      <td>Democratic Party</td>\n",
       "      <td>AZ</td>\n",
       "    </tr>\n",
       "    <tr>\n",
       "      <th>3</th>\n",
       "      <td>2012</td>\n",
       "      <td>H2CA25176</td>\n",
       "      <td>C</td>\n",
       "      <td>Statutory candidate</td>\n",
       "      <td>[2012]</td>\n",
       "      <td>25</td>\n",
       "      <td>[2012]</td>\n",
       "      <td>C</td>\n",
       "      <td>Challenger</td>\n",
       "      <td>ACOSTA, DANTE</td>\n",
       "      <td>H</td>\n",
       "      <td>House</td>\n",
       "      <td>REP</td>\n",
       "      <td>Republican Party</td>\n",
       "      <td>CA</td>\n",
       "    </tr>\n",
       "    <tr>\n",
       "      <th>4</th>\n",
       "      <td>2014</td>\n",
       "      <td>H8NC03043</td>\n",
       "      <td>C</td>\n",
       "      <td>Statutory candidate</td>\n",
       "      <td>[2008, 2010, 2012, 2014]</td>\n",
       "      <td>03</td>\n",
       "      <td>[2008, 2014]</td>\n",
       "      <td>C</td>\n",
       "      <td>Challenger</td>\n",
       "      <td>ADAME, MARSHALL RICHARD</td>\n",
       "      <td>H</td>\n",
       "      <td>House</td>\n",
       "      <td>DEM</td>\n",
       "      <td>Democratic Party</td>\n",
       "      <td>NC</td>\n",
       "    </tr>\n",
       "  </tbody>\n",
       "</table>\n",
       "</div>"
      ],
      "text/plain": [
       "   active_through candidate_id candidate_status candidate_status_full  \\\n",
       "0            2012    S2UT00229                C   Statutory candidate   \n",
       "1            2012    H2CA01110                C   Statutory candidate   \n",
       "2            2012    H2AZ02279                C   Statutory candidate   \n",
       "3            2012    H2CA25176                C   Statutory candidate   \n",
       "4            2014    H8NC03043                C   Statutory candidate   \n",
       "\n",
       "                     cycles district election_years incumbent_challenge  \\\n",
       "0                    [2012]     None         [2012]                   C   \n",
       "1                    [2012]       01         [2012]                   C   \n",
       "2                    [2012]       02         [2012]                   C   \n",
       "3                    [2012]       25         [2012]                   C   \n",
       "4  [2008, 2010, 2012, 2014]       03   [2008, 2014]                   C   \n",
       "\n",
       "  incumbent_challenge_full                     name office office_full party  \\\n",
       "0               Challenger    AALDERS, TIMOTHY NOEL      S      Senate   REP   \n",
       "1               Challenger         AANESTAD, SAMUEL      H       House   REP   \n",
       "2               Challenger         ABOUD, PAULA ANN      H       House   DEM   \n",
       "3               Challenger            ACOSTA, DANTE      H       House   REP   \n",
       "4               Challenger  ADAME, MARSHALL RICHARD      H       House   DEM   \n",
       "\n",
       "         party_full state  \n",
       "0  Republican Party    UT  \n",
       "1  Republican Party    CA  \n",
       "2  Democratic Party    AZ  \n",
       "3  Republican Party    CA  \n",
       "4  Democratic Party    NC  "
      ]
     },
     "execution_count": 20,
     "metadata": {},
     "output_type": "execute_result"
    }
   ],
   "source": [
    "candidates_2012_df.head()"
   ]
  },
  {
   "cell_type": "markdown",
   "metadata": {},
   "source": [
    "Since we had some high counts, let's look at how they break down (note the log scale on the x axis)."
   ]
  },
  {
   "cell_type": "code",
   "execution_count": 0,
   "metadata": {
    "collapsed": false
   },
   "outputs": [
    {
     "data": {
      "text/plain": [
       "array([<matplotlib.axes._subplots.AxesSubplot object at 0x7f4a3aa85bd0>,\n",
       "       <matplotlib.axes._subplots.AxesSubplot object at 0x7f4a39d5fa90>,\n",
       "       <matplotlib.axes._subplots.AxesSubplot object at 0x7f4a39cdcf50>], dtype=object)"
      ]
     },
     "execution_count": 40,
     "metadata": {},
     "output_type": "execute_result"
    },
    {
     "data": {
      "image/png": "[encoded data removed]",
      "text/plain": [
       "<matplotlib.figure.Figure at 0x7f4a3a61db90>"
      ]
     },
     "metadata": {},
     "output_type": "display_data"
    }
   ],
   "source": [
    "candidates_2012_df.pivot_table(\n",
    "    index='party',\n",
    "    columns='office',\n",
    "    values='candidate_id',\n",
    "    aggfunc=np.size\n",
    ").plot(\n",
    "    kind='barh',\n",
    "    subplots=True,\n",
    "    figsize=(6,10),\n",
    "    logx=True,\n",
    "    legend=False,\n",
    "    xticks=[1, 10, 100, 1000]\n",
    ")"
   ]
  },
  {
   "cell_type": "markdown",
   "metadata": {},
   "source": [
    "So while these numbers seem a higher than you might expect, they're in the right proportion: Democrats and Republicans are the most common parties (at least among the congressional candidates), there are far more candidates for house than there are for senate, and candidates for president make up the smallest population.  Still, why are there so many more candidates than we remember seeing in 2012?\n",
    "\n",
    "The answer is that, while mainstream election coverage typically focuses on candidates that are likely to be competitive and/or associated with a major national party, the FEC is responsible for reporting the campaign finance records for everyone who registers with the FEC as a candidate. "
   ]
  },
  {
   "cell_type": "markdown",
   "metadata": {},
   "source": [
    "## Focusing on select entities"
   ]
  },
  {
   "cell_type": "markdown",
   "metadata": {},
   "source": [
    "Let's look at the names of those candidates who raised more than $5000 in a bid for the oval office:"
   ]
  },
  {
   "cell_type": "code",
   "execution_count": 0,
   "metadata": {
    "collapsed": true
   },
   "outputs": [],
   "source": [
    "q_all_2012_present_prez_candidates = {\n",
    "    \"cycle\": 2012,\n",
    "    \"candidate_status\": \"C\",\n",
    "    \"office\": \"P\",\n",
    "}"
   ]
  },
  {
   "cell_type": "code",
   "execution_count": 0,
   "metadata": {
    "collapsed": false
   },
   "outputs": [
    {
     "data": {
      "text/plain": [
       "39"
      ]
     },
     "execution_count": 37,
     "metadata": {},
     "output_type": "execute_result"
    }
   ],
   "source": [
    "count_results('/candidates', q_all_2012_present_prez_candidates)"
   ]
  },
  {
   "cell_type": "code",
   "execution_count": 0,
   "metadata": {
    "collapsed": false
   },
   "outputs": [
    {
     "name": "stderr",
     "output_type": "stream",
     "text": [
      "INFO:root:querying endpoint: http://api.open.fec.gov/v1/candidates\n",
      "INFO:root:2 pages to be retrieved, with 39 records\n",
      "INFO:root:all pages retrieved\n"
     ]
    }
   ],
   "source": [
    "prez_candidates_2012 = [c for c in all_results('/candidates',\n",
    "                                               q_all_2012_present_prez_candidates)]"
   ]
  },
  {
   "cell_type": "code",
   "execution_count": 0,
   "metadata": {
    "collapsed": true
   },
   "outputs": [],
   "source": [
    "prez_candidates_2012_df = pd.DataFrame(prez_candidates_2012)"
   ]
  },
  {
   "cell_type": "code",
   "execution_count": 0,
   "metadata": {
    "collapsed": false
   },
   "outputs": [
    {
     "data": {
      "text/html": [
       "<div style=\"max-height:1000px;max-width:1500px;overflow:auto;\">\n",
       "<table border=\"1\" class=\"dataframe\">\n",
       "  <thead>\n",
       "    <tr style=\"text-align: right;\">\n",
       "      <th></th>\n",
       "      <th>name</th>\n",
       "      <th>party</th>\n",
       "      <th>candidate_id</th>\n",
       "    </tr>\n",
       "  </thead>\n",
       "  <tbody>\n",
       "    <tr>\n",
       "      <th>12</th>\n",
       "      <td>GOODE, VIRGIL H JR</td>\n",
       "      <td>999</td>\n",
       "      <td>P20004685</td>\n",
       "    </tr>\n",
       "    <tr>\n",
       "      <th>6</th>\n",
       "      <td>CARTER, WILLIE FELIX</td>\n",
       "      <td>DEM</td>\n",
       "      <td>P80000268</td>\n",
       "    </tr>\n",
       "    <tr>\n",
       "      <th>14</th>\n",
       "      <td>HERMAN, RAPHAEL</td>\n",
       "      <td>DEM</td>\n",
       "      <td>P20002184</td>\n",
       "    </tr>\n",
       "    <tr>\n",
       "      <th>23</th>\n",
       "      <td>OBAMA, BARACK</td>\n",
       "      <td>DEM</td>\n",
       "      <td>P80003338</td>\n",
       "    </tr>\n",
       "    <tr>\n",
       "      <th>27</th>\n",
       "      <td>RICHARDSON, DARCY G</td>\n",
       "      <td>DEM</td>\n",
       "      <td>P20001376</td>\n",
       "    </tr>\n",
       "    <tr>\n",
       "      <th>22</th>\n",
       "      <td>MESPLAY, KENT P</td>\n",
       "      <td>GRE</td>\n",
       "      <td>P40003279</td>\n",
       "    </tr>\n",
       "    <tr>\n",
       "      <th>33</th>\n",
       "      <td>STEIN, JILL</td>\n",
       "      <td>GRE</td>\n",
       "      <td>P20003984</td>\n",
       "    </tr>\n",
       "    <tr>\n",
       "      <th>11</th>\n",
       "      <td>FARNSWORTH, VERL</td>\n",
       "      <td>IND</td>\n",
       "      <td>P20002853</td>\n",
       "    </tr>\n",
       "    <tr>\n",
       "      <th>21</th>\n",
       "      <td>MCCALL, JAMES HATTON</td>\n",
       "      <td>IND</td>\n",
       "      <td>P80003361</td>\n",
       "    </tr>\n",
       "    <tr>\n",
       "      <th>25</th>\n",
       "      <td>RAKOWITZ, ARTHUR FABIAN</td>\n",
       "      <td>IND</td>\n",
       "      <td>P20003448</td>\n",
       "    </tr>\n",
       "    <tr>\n",
       "      <th>28</th>\n",
       "      <td>RISLEY, MICHEALENE CRISTINI</td>\n",
       "      <td>IND</td>\n",
       "      <td>P20004727</td>\n",
       "    </tr>\n",
       "    <tr>\n",
       "      <th>34</th>\n",
       "      <td>TERRY, RANDALL A</td>\n",
       "      <td>IND</td>\n",
       "      <td>P20002424</td>\n",
       "    </tr>\n",
       "    <tr>\n",
       "      <th>35</th>\n",
       "      <td>WELLS, ROBERT CARR JR</td>\n",
       "      <td>IND</td>\n",
       "      <td>P20004065</td>\n",
       "    </tr>\n",
       "    <tr>\n",
       "      <th>37</th>\n",
       "      <td>WIFORD, SAMUEL TIMOTHY II</td>\n",
       "      <td>IND</td>\n",
       "      <td>P20003489</td>\n",
       "    </tr>\n",
       "    <tr>\n",
       "      <th>13</th>\n",
       "      <td>HARRIS, RICHARDJASON SATAWK</td>\n",
       "      <td>LIB</td>\n",
       "      <td>P20003364</td>\n",
       "    </tr>\n",
       "    <tr>\n",
       "      <th>38</th>\n",
       "      <td>WRIGHTS, ROGER LEE</td>\n",
       "      <td>LIB</td>\n",
       "      <td>P20002952</td>\n",
       "    </tr>\n",
       "    <tr>\n",
       "      <th>5</th>\n",
       "      <td>BROWN, HARLEY D</td>\n",
       "      <td>NNE</td>\n",
       "      <td>P00004275</td>\n",
       "    </tr>\n",
       "    <tr>\n",
       "      <th>17</th>\n",
       "      <td>KOTLIKOFF, LAURENCE J</td>\n",
       "      <td>NNE</td>\n",
       "      <td>P20004511</td>\n",
       "    </tr>\n",
       "    <tr>\n",
       "      <th>26</th>\n",
       "      <td>REED, JILL ANN</td>\n",
       "      <td>NNE</td>\n",
       "      <td>P20003208</td>\n",
       "    </tr>\n",
       "    <tr>\n",
       "      <th>31</th>\n",
       "      <td>ROTH, CECIL JAMES</td>\n",
       "      <td>NNE</td>\n",
       "      <td>P20003836</td>\n",
       "    </tr>\n",
       "    <tr>\n",
       "      <th>1</th>\n",
       "      <td>ANDERSON, ROSS C (ROCKY)</td>\n",
       "      <td>OTH</td>\n",
       "      <td>P20004263</td>\n",
       "    </tr>\n",
       "    <tr>\n",
       "      <th>2</th>\n",
       "      <td>BARR, ROSEANNE CHERRI</td>\n",
       "      <td>OTH</td>\n",
       "      <td>P20002804</td>\n",
       "    </tr>\n",
       "    <tr>\n",
       "      <th>10</th>\n",
       "      <td>DURHAM, STEPHEN</td>\n",
       "      <td>OTH</td>\n",
       "      <td>P20004651</td>\n",
       "    </tr>\n",
       "    <tr>\n",
       "      <th>20</th>\n",
       "      <td>LOPEZ, CHRISTINA (VICE PRES)</td>\n",
       "      <td>OTH</td>\n",
       "      <td>P20004669</td>\n",
       "    </tr>\n",
       "    <tr>\n",
       "      <th>29</th>\n",
       "      <td>ROEMER, CHARLES E. ''BUDDY'' III</td>\n",
       "      <td>OTH</td>\n",
       "      <td>P20002523</td>\n",
       "    </tr>\n",
       "    <tr>\n",
       "      <th>36</th>\n",
       "      <td>WHITE, JEROME S</td>\n",
       "      <td>OTH</td>\n",
       "      <td>P20004677</td>\n",
       "    </tr>\n",
       "    <tr>\n",
       "      <th>0</th>\n",
       "      <td>ADESHINA, YINKA ABOSEDE</td>\n",
       "      <td>REP</td>\n",
       "      <td>P60004793</td>\n",
       "    </tr>\n",
       "    <tr>\n",
       "      <th>3</th>\n",
       "      <td>BLANKENSHIP, JARED</td>\n",
       "      <td>REP</td>\n",
       "      <td>P20002598</td>\n",
       "    </tr>\n",
       "    <tr>\n",
       "      <th>7</th>\n",
       "      <td>CISNEROS, CESAR</td>\n",
       "      <td>REP</td>\n",
       "      <td>P20002390</td>\n",
       "    </tr>\n",
       "    <tr>\n",
       "      <th>8</th>\n",
       "      <td>DAVIS, L JOHN JR</td>\n",
       "      <td>REP</td>\n",
       "      <td>P20002325</td>\n",
       "    </tr>\n",
       "    <tr>\n",
       "      <th>9</th>\n",
       "      <td>DRUMMOND, KEITH</td>\n",
       "      <td>REP</td>\n",
       "      <td>P20003430</td>\n",
       "    </tr>\n",
       "    <tr>\n",
       "      <th>15</th>\n",
       "      <td>HILL, CHRISTOPHER V</td>\n",
       "      <td>REP</td>\n",
       "      <td>P20002838</td>\n",
       "    </tr>\n",
       "    <tr>\n",
       "      <th>16</th>\n",
       "      <td>KARGER, FRED</td>\n",
       "      <td>REP</td>\n",
       "      <td>P20002564</td>\n",
       "    </tr>\n",
       "    <tr>\n",
       "      <th>18</th>\n",
       "      <td>LAWSON, EDGAR A</td>\n",
       "      <td>REP</td>\n",
       "      <td>P20003950</td>\n",
       "    </tr>\n",
       "    <tr>\n",
       "      <th>24</th>\n",
       "      <td>PAUL, RON</td>\n",
       "      <td>REP</td>\n",
       "      <td>P80000748</td>\n",
       "    </tr>\n",
       "    <tr>\n",
       "      <th>30</th>\n",
       "      <td>ROMNEY / PAUL D. RYAN, MITT</td>\n",
       "      <td>REP</td>\n",
       "      <td>P80003353</td>\n",
       "    </tr>\n",
       "    <tr>\n",
       "      <th>4</th>\n",
       "      <td>BLOCK, JEFF</td>\n",
       "      <td>UNK</td>\n",
       "      <td>P20003398</td>\n",
       "    </tr>\n",
       "    <tr>\n",
       "      <th>19</th>\n",
       "      <td>LINDSAY, PETA</td>\n",
       "      <td>UNK</td>\n",
       "      <td>P20004636</td>\n",
       "    </tr>\n",
       "    <tr>\n",
       "      <th>32</th>\n",
       "      <td>SCHRINER, JOSEPH CHARLES</td>\n",
       "      <td>UNK</td>\n",
       "      <td>P00003962</td>\n",
       "    </tr>\n",
       "  </tbody>\n",
       "</table>\n",
       "</div>"
      ],
      "text/plain": [
       "                                name party candidate_id\n",
       "12                GOODE, VIRGIL H JR   999    P20004685\n",
       "6               CARTER, WILLIE FELIX   DEM    P80000268\n",
       "14                   HERMAN, RAPHAEL   DEM    P20002184\n",
       "23                     OBAMA, BARACK   DEM    P80003338\n",
       "27               RICHARDSON, DARCY G   DEM    P20001376\n",
       "22                   MESPLAY, KENT P   GRE    P40003279\n",
       "33                       STEIN, JILL   GRE    P20003984\n",
       "11                  FARNSWORTH, VERL   IND    P20002853\n",
       "21              MCCALL, JAMES HATTON   IND    P80003361\n",
       "25           RAKOWITZ, ARTHUR FABIAN   IND    P20003448\n",
       "28       RISLEY, MICHEALENE CRISTINI   IND    P20004727\n",
       "34                  TERRY, RANDALL A   IND    P20002424\n",
       "35             WELLS, ROBERT CARR JR   IND    P20004065\n",
       "37         WIFORD, SAMUEL TIMOTHY II   IND    P20003489\n",
       "13       HARRIS, RICHARDJASON SATAWK   LIB    P20003364\n",
       "38                WRIGHTS, ROGER LEE   LIB    P20002952\n",
       "5                    BROWN, HARLEY D   NNE    P00004275\n",
       "17             KOTLIKOFF, LAURENCE J   NNE    P20004511\n",
       "26                    REED, JILL ANN   NNE    P20003208\n",
       "31                 ROTH, CECIL JAMES   NNE    P20003836\n",
       "1           ANDERSON, ROSS C (ROCKY)   OTH    P20004263\n",
       "2              BARR, ROSEANNE CHERRI   OTH    P20002804\n",
       "10                   DURHAM, STEPHEN   OTH    P20004651\n",
       "20      LOPEZ, CHRISTINA (VICE PRES)   OTH    P20004669\n",
       "29  ROEMER, CHARLES E. ''BUDDY'' III   OTH    P20002523\n",
       "36                   WHITE, JEROME S   OTH    P20004677\n",
       "0            ADESHINA, YINKA ABOSEDE   REP    P60004793\n",
       "3                 BLANKENSHIP, JARED   REP    P20002598\n",
       "7                    CISNEROS, CESAR   REP    P20002390\n",
       "8                   DAVIS, L JOHN JR   REP    P20002325\n",
       "9                    DRUMMOND, KEITH   REP    P20003430\n",
       "15               HILL, CHRISTOPHER V   REP    P20002838\n",
       "16                      KARGER, FRED   REP    P20002564\n",
       "18                   LAWSON, EDGAR A   REP    P20003950\n",
       "24                         PAUL, RON   REP    P80000748\n",
       "30       ROMNEY / PAUL D. RYAN, MITT   REP    P80003353\n",
       "4                        BLOCK, JEFF   UNK    P20003398\n",
       "19                     LINDSAY, PETA   UNK    P20004636\n",
       "32          SCHRINER, JOSEPH CHARLES   UNK    P00003962"
      ]
     },
     "execution_count": 50,
     "metadata": {},
     "output_type": "execute_result"
    }
   ],
   "source": [
    "prez_candidates_2012_df[['name','party','candidate_id']].sort('party')"
   ]
  },
  {
   "cell_type": "markdown",
   "metadata": {},
   "source": [
    "Yep, that's quite a large field. Keep this in mind when pulling your data: you'll probably want to make editorial choices about which candidates you'd like to focus on. That could be as easy as filtering your results after obtaining them from the API:"
   ]
  },
  {
   "cell_type": "code",
   "execution_count": 0,
   "metadata": {
    "collapsed": true
   },
   "outputs": [],
   "source": [
    "candidates_to_focus_on = ['PAUL, RON',\n",
    "                          'OBAMA, BARACK',\n",
    "                          'ROMNEY / PAUL D. RYAN, MITT']\n",
    "                          \n",
    "candidate_filter = prez_candidates_2012_df.name.str.match(\n",
    "    '|'.join(candidates_to_focus_on), case=False)"
   ]
  },
  {
   "cell_type": "code",
   "execution_count": 0,
   "metadata": {
    "collapsed": false
   },
   "outputs": [
    {
     "data": {
      "text/html": [
       "<div style=\"max-height:1000px;max-width:1500px;overflow:auto;\">\n",
       "<table border=\"1\" class=\"dataframe\">\n",
       "  <thead>\n",
       "    <tr style=\"text-align: right;\">\n",
       "      <th></th>\n",
       "      <th>23</th>\n",
       "      <th>24</th>\n",
       "      <th>30</th>\n",
       "    </tr>\n",
       "  </thead>\n",
       "  <tbody>\n",
       "    <tr>\n",
       "      <th>active_through</th>\n",
       "      <td>2012</td>\n",
       "      <td>2012</td>\n",
       "      <td>2012</td>\n",
       "    </tr>\n",
       "    <tr>\n",
       "      <th>candidate_id</th>\n",
       "      <td>P80003338</td>\n",
       "      <td>P80000748</td>\n",
       "      <td>P80003353</td>\n",
       "    </tr>\n",
       "    <tr>\n",
       "      <th>candidate_status</th>\n",
       "      <td>C</td>\n",
       "      <td>C</td>\n",
       "      <td>C</td>\n",
       "    </tr>\n",
       "    <tr>\n",
       "      <th>candidate_status_full</th>\n",
       "      <td>Statutory candidate</td>\n",
       "      <td>Statutory candidate</td>\n",
       "      <td>Statutory candidate</td>\n",
       "    </tr>\n",
       "    <tr>\n",
       "      <th>cycles</th>\n",
       "      <td>[2008, 2010, 2012]</td>\n",
       "      <td>[1988, 1990, 1992, 1994, 1996, 1998, 2000, 200...</td>\n",
       "      <td>[2008, 2010, 2012]</td>\n",
       "    </tr>\n",
       "    <tr>\n",
       "      <th>district</th>\n",
       "      <td>None</td>\n",
       "      <td>None</td>\n",
       "      <td>None</td>\n",
       "    </tr>\n",
       "    <tr>\n",
       "      <th>election_years</th>\n",
       "      <td>[2008, 2012]</td>\n",
       "      <td>[1988, 1990, 2008, 2012]</td>\n",
       "      <td>[2008, 2012]</td>\n",
       "    </tr>\n",
       "    <tr>\n",
       "      <th>incumbent_challenge</th>\n",
       "      <td>I</td>\n",
       "      <td>C</td>\n",
       "      <td>C</td>\n",
       "    </tr>\n",
       "    <tr>\n",
       "      <th>incumbent_challenge_full</th>\n",
       "      <td>Incumbent</td>\n",
       "      <td>Challenger</td>\n",
       "      <td>Challenger</td>\n",
       "    </tr>\n",
       "    <tr>\n",
       "      <th>name</th>\n",
       "      <td>OBAMA, BARACK</td>\n",
       "      <td>PAUL, RON</td>\n",
       "      <td>ROMNEY / PAUL D. RYAN, MITT</td>\n",
       "    </tr>\n",
       "    <tr>\n",
       "      <th>office</th>\n",
       "      <td>P</td>\n",
       "      <td>P</td>\n",
       "      <td>P</td>\n",
       "    </tr>\n",
       "    <tr>\n",
       "      <th>office_full</th>\n",
       "      <td>President</td>\n",
       "      <td>President</td>\n",
       "      <td>President</td>\n",
       "    </tr>\n",
       "    <tr>\n",
       "      <th>party</th>\n",
       "      <td>DEM</td>\n",
       "      <td>REP</td>\n",
       "      <td>REP</td>\n",
       "    </tr>\n",
       "    <tr>\n",
       "      <th>party_full</th>\n",
       "      <td>Democratic Party</td>\n",
       "      <td>Republican Party</td>\n",
       "      <td>Republican Party</td>\n",
       "    </tr>\n",
       "    <tr>\n",
       "      <th>state</th>\n",
       "      <td>US</td>\n",
       "      <td>US</td>\n",
       "      <td>US</td>\n",
       "    </tr>\n",
       "  </tbody>\n",
       "</table>\n",
       "</div>"
      ],
      "text/plain": [
       "                                           23  \\\n",
       "active_through                           2012   \n",
       "candidate_id                        P80003338   \n",
       "candidate_status                            C   \n",
       "candidate_status_full     Statutory candidate   \n",
       "cycles                     [2008, 2010, 2012]   \n",
       "district                                 None   \n",
       "election_years                   [2008, 2012]   \n",
       "incumbent_challenge                         I   \n",
       "incumbent_challenge_full            Incumbent   \n",
       "name                            OBAMA, BARACK   \n",
       "office                                      P   \n",
       "office_full                         President   \n",
       "party                                     DEM   \n",
       "party_full                   Democratic Party   \n",
       "state                                      US   \n",
       "\n",
       "                                                                         24  \\\n",
       "active_through                                                         2012   \n",
       "candidate_id                                                      P80000748   \n",
       "candidate_status                                                          C   \n",
       "candidate_status_full                                   Statutory candidate   \n",
       "cycles                    [1988, 1990, 1992, 1994, 1996, 1998, 2000, 200...   \n",
       "district                                                               None   \n",
       "election_years                                     [1988, 1990, 2008, 2012]   \n",
       "incumbent_challenge                                                       C   \n",
       "incumbent_challenge_full                                         Challenger   \n",
       "name                                                              PAUL, RON   \n",
       "office                                                                    P   \n",
       "office_full                                                       President   \n",
       "party                                                                   REP   \n",
       "party_full                                                 Republican Party   \n",
       "state                                                                    US   \n",
       "\n",
       "                                                   30  \n",
       "active_through                                   2012  \n",
       "candidate_id                                P80003353  \n",
       "candidate_status                                    C  \n",
       "candidate_status_full             Statutory candidate  \n",
       "cycles                             [2008, 2010, 2012]  \n",
       "district                                         None  \n",
       "election_years                           [2008, 2012]  \n",
       "incumbent_challenge                                 C  \n",
       "incumbent_challenge_full                   Challenger  \n",
       "name                      ROMNEY / PAUL D. RYAN, MITT  \n",
       "office                                              P  \n",
       "office_full                                 President  \n",
       "party                                             REP  \n",
       "party_full                           Republican Party  \n",
       "state                                              US  "
      ]
     },
     "execution_count": 49,
     "metadata": {},
     "output_type": "execute_result"
    }
   ],
   "source": [
    "prez_candidates_2012_df[candidate_filter].T"
   ]
  },
  {
   "cell_type": "markdown",
   "metadata": {},
   "source": [
    "If you plan to regularly update your data, though, you might want to store the identifiers for the entities you're interested in and use those for future API calls."
   ]
  },
  {
   "cell_type": "code",
   "execution_count": 0,
   "metadata": {
    "collapsed": true
   },
   "outputs": [],
   "source": [
    "q_my_2012_prez_candidates = {\n",
    "    \"cycle\": 2012,\n",
    "    \"candidate_status\": \"C\",\n",
    "    \"office\": \"P\",\n",
    "    \"candidate_id\": ['P80003338', 'P80000748', 'P80003353', 'P20002523', 'P20003984']\n",
    "}"
   ]
  },
  {
   "cell_type": "code",
   "execution_count": 0,
   "metadata": {
    "collapsed": false
   },
   "outputs": [
    {
     "name": "stderr",
     "output_type": "stream",
     "text": [
      "INFO:root:querying endpoint: http://api.open.fec.gov/v1/candidates\n",
      "INFO:root:1 pages to be retrieved, with 5 records\n",
      "INFO:root:all pages retrieved\n"
     ]
    },
    {
     "data": {
      "text/html": [
       "<div style=\"max-height:1000px;max-width:1500px;overflow:auto;\">\n",
       "<table border=\"1\" class=\"dataframe\">\n",
       "  <thead>\n",
       "    <tr style=\"text-align: right;\">\n",
       "      <th></th>\n",
       "      <th>0</th>\n",
       "      <th>1</th>\n",
       "      <th>2</th>\n",
       "      <th>3</th>\n",
       "      <th>4</th>\n",
       "    </tr>\n",
       "  </thead>\n",
       "  <tbody>\n",
       "    <tr>\n",
       "      <th>active_through</th>\n",
       "      <td>2012</td>\n",
       "      <td>2012</td>\n",
       "      <td>2012</td>\n",
       "      <td>2012</td>\n",
       "      <td>2012</td>\n",
       "    </tr>\n",
       "    <tr>\n",
       "      <th>candidate_id</th>\n",
       "      <td>P80003338</td>\n",
       "      <td>P80000748</td>\n",
       "      <td>P20002523</td>\n",
       "      <td>P80003353</td>\n",
       "      <td>P20003984</td>\n",
       "    </tr>\n",
       "    <tr>\n",
       "      <th>candidate_status</th>\n",
       "      <td>C</td>\n",
       "      <td>C</td>\n",
       "      <td>C</td>\n",
       "      <td>C</td>\n",
       "      <td>C</td>\n",
       "    </tr>\n",
       "    <tr>\n",
       "      <th>candidate_status_full</th>\n",
       "      <td>Statutory candidate</td>\n",
       "      <td>Statutory candidate</td>\n",
       "      <td>Statutory candidate</td>\n",
       "      <td>Statutory candidate</td>\n",
       "      <td>Statutory candidate</td>\n",
       "    </tr>\n",
       "    <tr>\n",
       "      <th>cycles</th>\n",
       "      <td>[2008, 2010, 2012]</td>\n",
       "      <td>[1988, 1990, 1992, 1994, 1996, 1998, 2000, 200...</td>\n",
       "      <td>[2012]</td>\n",
       "      <td>[2008, 2010, 2012]</td>\n",
       "      <td>[2012]</td>\n",
       "    </tr>\n",
       "    <tr>\n",
       "      <th>district</th>\n",
       "      <td>None</td>\n",
       "      <td>None</td>\n",
       "      <td>None</td>\n",
       "      <td>None</td>\n",
       "      <td>None</td>\n",
       "    </tr>\n",
       "    <tr>\n",
       "      <th>election_years</th>\n",
       "      <td>[2008, 2012]</td>\n",
       "      <td>[1988, 1990, 2008, 2012]</td>\n",
       "      <td>[2012]</td>\n",
       "      <td>[2008, 2012]</td>\n",
       "      <td>[2012]</td>\n",
       "    </tr>\n",
       "    <tr>\n",
       "      <th>incumbent_challenge</th>\n",
       "      <td>I</td>\n",
       "      <td>C</td>\n",
       "      <td>C</td>\n",
       "      <td>C</td>\n",
       "      <td>C</td>\n",
       "    </tr>\n",
       "    <tr>\n",
       "      <th>incumbent_challenge_full</th>\n",
       "      <td>Incumbent</td>\n",
       "      <td>Challenger</td>\n",
       "      <td>Challenger</td>\n",
       "      <td>Challenger</td>\n",
       "      <td>Challenger</td>\n",
       "    </tr>\n",
       "    <tr>\n",
       "      <th>name</th>\n",
       "      <td>OBAMA, BARACK</td>\n",
       "      <td>PAUL, RON</td>\n",
       "      <td>ROEMER, CHARLES E. ''BUDDY'' III</td>\n",
       "      <td>ROMNEY / PAUL D. RYAN, MITT</td>\n",
       "      <td>STEIN, JILL</td>\n",
       "    </tr>\n",
       "    <tr>\n",
       "      <th>office</th>\n",
       "      <td>P</td>\n",
       "      <td>P</td>\n",
       "      <td>P</td>\n",
       "      <td>P</td>\n",
       "      <td>P</td>\n",
       "    </tr>\n",
       "    <tr>\n",
       "      <th>office_full</th>\n",
       "      <td>President</td>\n",
       "      <td>President</td>\n",
       "      <td>President</td>\n",
       "      <td>President</td>\n",
       "      <td>President</td>\n",
       "    </tr>\n",
       "    <tr>\n",
       "      <th>party</th>\n",
       "      <td>DEM</td>\n",
       "      <td>REP</td>\n",
       "      <td>OTH</td>\n",
       "      <td>REP</td>\n",
       "      <td>GRE</td>\n",
       "    </tr>\n",
       "    <tr>\n",
       "      <th>party_full</th>\n",
       "      <td>Democratic Party</td>\n",
       "      <td>Republican Party</td>\n",
       "      <td>Other</td>\n",
       "      <td>Republican Party</td>\n",
       "      <td>Green Party</td>\n",
       "    </tr>\n",
       "    <tr>\n",
       "      <th>state</th>\n",
       "      <td>US</td>\n",
       "      <td>US</td>\n",
       "      <td>US</td>\n",
       "      <td>US</td>\n",
       "      <td>US</td>\n",
       "    </tr>\n",
       "  </tbody>\n",
       "</table>\n",
       "</div>"
      ],
      "text/plain": [
       "                                            0  \\\n",
       "active_through                           2012   \n",
       "candidate_id                        P80003338   \n",
       "candidate_status                            C   \n",
       "candidate_status_full     Statutory candidate   \n",
       "cycles                     [2008, 2010, 2012]   \n",
       "district                                 None   \n",
       "election_years                   [2008, 2012]   \n",
       "incumbent_challenge                         I   \n",
       "incumbent_challenge_full            Incumbent   \n",
       "name                            OBAMA, BARACK   \n",
       "office                                      P   \n",
       "office_full                         President   \n",
       "party                                     DEM   \n",
       "party_full                   Democratic Party   \n",
       "state                                      US   \n",
       "\n",
       "                                                                          1  \\\n",
       "active_through                                                         2012   \n",
       "candidate_id                                                      P80000748   \n",
       "candidate_status                                                          C   \n",
       "candidate_status_full                                   Statutory candidate   \n",
       "cycles                    [1988, 1990, 1992, 1994, 1996, 1998, 2000, 200...   \n",
       "district                                                               None   \n",
       "election_years                                     [1988, 1990, 2008, 2012]   \n",
       "incumbent_challenge                                                       C   \n",
       "incumbent_challenge_full                                         Challenger   \n",
       "name                                                              PAUL, RON   \n",
       "office                                                                    P   \n",
       "office_full                                                       President   \n",
       "party                                                                   REP   \n",
       "party_full                                                 Republican Party   \n",
       "state                                                                    US   \n",
       "\n",
       "                                                         2  \\\n",
       "active_through                                        2012   \n",
       "candidate_id                                     P20002523   \n",
       "candidate_status                                         C   \n",
       "candidate_status_full                  Statutory candidate   \n",
       "cycles                                              [2012]   \n",
       "district                                              None   \n",
       "election_years                                      [2012]   \n",
       "incumbent_challenge                                      C   \n",
       "incumbent_challenge_full                        Challenger   \n",
       "name                      ROEMER, CHARLES E. ''BUDDY'' III   \n",
       "office                                                   P   \n",
       "office_full                                      President   \n",
       "party                                                  OTH   \n",
       "party_full                                           Other   \n",
       "state                                                   US   \n",
       "\n",
       "                                                    3                    4  \n",
       "active_through                                   2012                 2012  \n",
       "candidate_id                                P80003353            P20003984  \n",
       "candidate_status                                    C                    C  \n",
       "candidate_status_full             Statutory candidate  Statutory candidate  \n",
       "cycles                             [2008, 2010, 2012]               [2012]  \n",
       "district                                         None                 None  \n",
       "election_years                           [2008, 2012]               [2012]  \n",
       "incumbent_challenge                                 C                    C  \n",
       "incumbent_challenge_full                   Challenger           Challenger  \n",
       "name                      ROMNEY / PAUL D. RYAN, MITT          STEIN, JILL  \n",
       "office                                              P                    P  \n",
       "office_full                                 President            President  \n",
       "party                                             REP                  GRE  \n",
       "party_full                           Republican Party          Green Party  \n",
       "state                                              US                   US  "
      ]
     },
     "execution_count": 55,
     "metadata": {},
     "output_type": "execute_result"
    }
   ],
   "source": [
    "my_2012_prez_candidates = [c for c in all_results('/candidates', q_my_2012_prez_candidates)]\n",
    "my_2012_prez_candidates_df = pd.DataFrame(my_2012_prez_candidates)\n",
    "my_2012_prez_candidates_df.T"
   ]
  },
  {
   "cell_type": "markdown",
   "metadata": {},
   "source": [
    "# Using Identifiers to Obtain Candidate Data"
   ]
  },
  {
   "cell_type": "markdown",
   "metadata": {},
   "source": [
    "If we want to know more about a given candidate, we have some options. Using the `candidate_id` field, we can make requests to the `/candidate` endpoint to get a detailed profile. Note that the identifier needs to be included as part of the **path**, not as a GET argument."
   ]
  },
  {
   "cell_type": "code",
   "execution_count": 0,
   "metadata": {
    "collapsed": false
   },
   "outputs": [
    {
     "name": "stderr",
     "output_type": "stream",
     "text": [
      "INFO:root:querying endpoint: http://api.open.fec.gov/v1/candidate/P80003338\n",
      "INFO:root:1 pages to be retrieved, with 1 records\n",
      "INFO:root:all pages retrieved\n"
     ]
    },
    {
     "data": {
      "text/plain": [
       "[{u'active_through': 2012,\n",
       "  u'address_city': u'CHICAGO',\n",
       "  u'address_state': u'IL',\n",
       "  u'address_street_1': u'PO BOX 8102',\n",
       "  u'address_street_2': None,\n",
       "  u'address_zip': u'60680',\n",
       "  u'candidate_id': u'P80003338',\n",
       "  u'candidate_inactive': None,\n",
       "  u'candidate_status': u'C',\n",
       "  u'candidate_status_full': u'Statutory candidate',\n",
       "  u'cycles': [2008, 2010, 2012],\n",
       "  u'district': None,\n",
       "  u'election_years': [2008, 2012],\n",
       "  u'expire_date': None,\n",
       "  u'form_type': u'F2Z',\n",
       "  u'incumbent_challenge': u'I',\n",
       "  u'incumbent_challenge_full': u'Incumbent',\n",
       "  u'load_date': u'2015-05-11T12:15:43+00:00',\n",
       "  u'name': u'OBAMA, BARACK',\n",
       "  u'office': u'P',\n",
       "  u'office_full': u'President',\n",
       "  u'party': u'DEM',\n",
       "  u'party_full': u'Democratic Party',\n",
       "  u'state': u'US'}]"
      ]
     },
     "execution_count": 26,
     "metadata": {},
     "output_type": "execute_result"
    }
   ],
   "source": [
    "[r for r in all_results('/candidate/P80003338',{})]"
   ]
  },
  {
   "cell_type": "markdown",
   "metadata": {},
   "source": [
    "## Looking Up Candidate Committees"
   ]
  },
  {
   "cell_type": "markdown",
   "metadata": {},
   "source": [
    "Let's continue to look at those presidential candidates. How much did each one raise in 2012? We can start to answer that question by looking at their committees, using the following endpoint:\n",
    "\n",
    "    /candidate/{candidate_id}/committees/history/{cycle}"
   ]
  },
  {
   "cell_type": "code",
   "execution_count": 0,
   "metadata": {
    "collapsed": false
   },
   "outputs": [
    {
     "data": {
      "text/plain": [
       "21"
      ]
     },
     "execution_count": 70,
     "metadata": {},
     "output_type": "execute_result"
    }
   ],
   "source": [
    "count_results('/candidate/P80003338/committees',{'cycle':2012})"
   ]
  },
  {
   "cell_type": "markdown",
   "metadata": {},
   "source": [
    "Hm, that's odd, he probably didn't have 21 committees."
   ]
  },
  {
   "cell_type": "code",
   "execution_count": 0,
   "metadata": {
    "collapsed": false
   },
   "outputs": [
    {
     "name": "stderr",
     "output_type": "stream",
     "text": [
      "INFO:root:querying endpoint: http://api.open.fec.gov/v1/candidate/P80003338/committees\n",
      "INFO:root:2 pages to be retrieved, with 21 records\n",
      "INFO:root:all pages retrieved\n"
     ]
    },
    {
     "data": {
      "text/plain": [
       "[u'ALASKAN WOMEN FOR OBAMA',\n",
       " u'CALIFORNIANS FOR CHANGE',\n",
       " u'COALITION FOR CHANGE',\n",
       " u'DC LGBT FOR SECOND TERM',\n",
       " u'OBAMA - COMMITTEE TO ELECT',\n",
       " u'OBAMA FOR AMERICA',\n",
       " u'OBAMA VICTORY FUND',\n",
       " u'OBAMA VICTORY FUND 2012',\n",
       " u'PA MOVING FORWARD',\n",
       " u'REALISTIC AND TRUTHFUL',\n",
       " u'SUPPORT THE PREZ',\n",
       " u'SWING STATE VICTORY FUND',\n",
       " u'WNC FOR CHANGE',\n",
       " u'YES WE CAN NEBRASKA']"
      ]
     },
     "execution_count": 71,
     "metadata": {},
     "output_type": "execute_result"
    }
   ],
   "source": [
    "[r['name'] for r in \n",
    " all_results('/candidate/P80003338/committees',{'cycle':2012})]"
   ]
  },
  {
   "cell_type": "markdown",
   "metadata": {},
   "source": [
    "What's happening here is that the API is returning all committees that claim to be associated with Obama. Some do so because they intended to raise money specifically for him, and others are \"Single Candidate Independent Expenditure\" groups. Most, though, are of designation \"Unauthorized\"."
   ]
  },
  {
   "cell_type": "code",
   "execution_count": 0,
   "metadata": {
    "collapsed": false
   },
   "outputs": [
    {
     "name": "stderr",
     "output_type": "stream",
     "text": [
      "INFO:root:querying endpoint: http://api.open.fec.gov/v1/candidate/P80003338/committees\n",
      "INFO:root:2 pages to be retrieved, with 21 records\n",
      "INFO:root:all pages retrieved\n"
     ]
    },
    {
     "data": {
      "text/plain": [
       "[(u'Unauthorized', u'Single Candidate Independent Expenditure'),\n",
       " (u'Unauthorized', u'PAC - Nonqualified'),\n",
       " (u'Unauthorized', u'Single Candidate Independent Expenditure'),\n",
       " (u'Unauthorized', u'Single Candidate Independent Expenditure'),\n",
       " (u'Unauthorized', u'Single Candidate Independent Expenditure'),\n",
       " (u'Principal campaign committee', u'Presidential'),\n",
       " (u'Joint fundraising committee', u'PAC - Nonqualified'),\n",
       " (u'Joint fundraising committee', u'PAC - Nonqualified'),\n",
       " (u'Unauthorized', u'Single Candidate Independent Expenditure'),\n",
       " (u'Unauthorized', u'Single Candidate Independent Expenditure'),\n",
       " (u'Unauthorized', u'Single Candidate Independent Expenditure'),\n",
       " (u'Joint fundraising committee', u'PAC - Nonqualified'),\n",
       " (u'Unauthorized', u'PAC - Nonqualified'),\n",
       " (u'Unauthorized', u'PAC - Nonqualified')]"
      ]
     },
     "execution_count": 80,
     "metadata": {},
     "output_type": "execute_result"
    }
   ],
   "source": [
    "[(r['designation_full'],r['committee_type_full']) for r in all_results('/candidate/P80003338/committees',{'cycle':2012})]"
   ]
  },
  {
   "cell_type": "markdown",
   "metadata": {},
   "source": [
    "For now, let's focus on Obama's principal campaign committee. We can limit the results using the `designation` field and the `committee_type` field:"
   ]
  },
  {
   "cell_type": "code",
   "execution_count": 0,
   "metadata": {
    "collapsed": false
   },
   "outputs": [
    {
     "name": "stderr",
     "output_type": "stream",
     "text": [
      "INFO:root:querying endpoint: http://api.open.fec.gov/v1/candidate/P80003338/committees\n",
      "INFO:root:1 pages to be retrieved, with 2 records\n",
      "INFO:root:all pages retrieved\n"
     ]
    },
    {
     "data": {
      "text/plain": [
       "[{u'candidate_ids': [u'P80003338'],\n",
       "  u'city': u'CHICAGO',\n",
       "  u'committee_id': u'C00431445',\n",
       "  u'committee_type': u'P',\n",
       "  u'committee_type_full': u'Presidential',\n",
       "  u'custodian_city': None,\n",
       "  u'custodian_name_1': None,\n",
       "  u'custodian_name_2': None,\n",
       "  u'custodian_name_full': None,\n",
       "  u'custodian_name_middle': None,\n",
       "  u'custodian_name_prefix': None,\n",
       "  u'custodian_name_suffix': None,\n",
       "  u'custodian_name_title': None,\n",
       "  u'custodian_phone': None,\n",
       "  u'custodian_state': None,\n",
       "  u'custodian_street_1': None,\n",
       "  u'custodian_street_2': None,\n",
       "  u'custodian_zip': None,\n",
       "  u'cycles': [2008, 2010, 2012, 2014, 2016],\n",
       "  u'designation': u'P',\n",
       "  u'designation_full': u'Principal campaign committee',\n",
       "  u'email': u'OFAFEC@BARACKOBAMA.COM',\n",
       "  u'expire_date': u'2015-05-11T00:00:00+00:00',\n",
       "  u'fax': None,\n",
       "  u'filing_frequency': u'Q',\n",
       "  u'first_file_date': u'2007-01-16T00:00:00+00:00',\n",
       "  u'form_type': u'F1Z',\n",
       "  u'last_file_date': u'2013-01-31T00:00:00+00:00',\n",
       "  u'leadership_pac': None,\n",
       "  u'load_date': u'2015-05-11T12:36:16+00:00',\n",
       "  u'lobbyist_registrant_pac': None,\n",
       "  u'name': u'OBAMA FOR AMERICA',\n",
       "  u'organization_type': None,\n",
       "  u'organization_type_full': None,\n",
       "  u'party': u'DEM',\n",
       "  u'party_full': u'Democratic Party',\n",
       "  u'party_type': None,\n",
       "  u'party_type_full': None,\n",
       "  u'qualifying_date': None,\n",
       "  u'state': u'IL',\n",
       "  u'state_full': u'Illinois    ',\n",
       "  u'street_1': u'PO BOX 8102',\n",
       "  u'street_2': None,\n",
       "  u'treasurer_city': u'CHICAGO',\n",
       "  u'treasurer_name': u'NESBITT, MARTIN H',\n",
       "  u'treasurer_name_1': None,\n",
       "  u'treasurer_name_2': None,\n",
       "  u'treasurer_name_middle': None,\n",
       "  u'treasurer_name_prefix': None,\n",
       "  u'treasurer_name_suffix': None,\n",
       "  u'treasurer_name_title': u'TREASURER',\n",
       "  u'treasurer_phone': u'3129851700',\n",
       "  u'treasurer_state': u'IL',\n",
       "  u'treasurer_street_1': u'PO BOX 8102',\n",
       "  u'treasurer_street_2': None,\n",
       "  u'treasurer_zip': u'60680',\n",
       "  u'website': u'HTTP://WWW.BARACKOBAMA.COM',\n",
       "  u'zip': u'60680'}]"
      ]
     },
     "execution_count": 84,
     "metadata": {},
     "output_type": "execute_result"
    }
   ],
   "source": [
    "[r for r in \n",
    " all_results('/candidate/P80003338/committees',\n",
    "             {'cycle':2012, 'designation': 'P', 'committee_type': 'P'})]"
   ]
  },
  {
   "cell_type": "markdown",
   "metadata": {},
   "source": [
    "We'll have to combine multiple API calls to get everyone we care about."
   ]
  },
  {
   "cell_type": "code",
   "execution_count": 0,
   "metadata": {
    "collapsed": false
   },
   "outputs": [
    {
     "name": "stderr",
     "output_type": "stream",
     "text": [
      "INFO:root:querying endpoint: http://api.open.fec.gov/v1/candidate/P80003338/committees\n",
      "INFO:root:1 pages to be retrieved, with 2 records\n",
      "INFO:root:all pages retrieved\n",
      "INFO:root:querying endpoint: http://api.open.fec.gov/v1/candidate/P80000748/committees\n",
      "INFO:root:1 pages to be retrieved, with 1 records\n",
      "INFO:root:all pages retrieved\n",
      "INFO:root:querying endpoint: http://api.open.fec.gov/v1/candidate/P20002523/committees\n",
      "INFO:root:1 pages to be retrieved, with 1 records\n",
      "INFO:root:all pages retrieved\n",
      "INFO:root:querying endpoint: http://api.open.fec.gov/v1/candidate/P80003353/committees\n",
      "INFO:root:1 pages to be retrieved, with 2 records\n",
      "INFO:root:all pages retrieved\n",
      "INFO:root:querying endpoint: http://api.open.fec.gov/v1/candidate/P20003984/committees\n",
      "INFO:root:1 pages to be retrieved, with 1 records\n",
      "INFO:root:all pages retrieved\n"
     ]
    }
   ],
   "source": [
    "my_2012_prez_committees = []\n",
    "\n",
    "for i, row in my_2012_prez_candidates_df.iterrows():\n",
    "    endpoint = '/candidate/{c}/committees'.format(c=row.candidate_id)\n",
    "    for res in all_results(endpoint, {'cycle':2012,\n",
    "                                      'designation': 'P',\n",
    "                                      'committee_type': 'P'}):\n",
    "        res['candidate_id'] = row.candidate_id\n",
    "        my_2012_prez_committees.append(res)"
   ]
  },
  {
   "cell_type": "code",
   "execution_count": 0,
   "metadata": {
    "collapsed": false
   },
   "outputs": [],
   "source": [
    "my_2012_prez_committees_df = pd.DataFrame(my_2012_prez_committees)"
   ]
  },
  {
   "cell_type": "code",
   "execution_count": 0,
   "metadata": {
    "collapsed": false
   },
   "outputs": [
    {
     "data": {
      "text/html": [
       "<div style=\"max-height:1000px;max-width:1500px;overflow:auto;\">\n",
       "<table border=\"1\" class=\"dataframe\">\n",
       "  <thead>\n",
       "    <tr style=\"text-align: right;\">\n",
       "      <th></th>\n",
       "      <th>name</th>\n",
       "      <th>committee_id</th>\n",
       "      <th>candidate_id</th>\n",
       "    </tr>\n",
       "  </thead>\n",
       "  <tbody>\n",
       "    <tr>\n",
       "      <th>0</th>\n",
       "      <td>OBAMA FOR AMERICA</td>\n",
       "      <td>C00431445</td>\n",
       "      <td>P80003338</td>\n",
       "    </tr>\n",
       "    <tr>\n",
       "      <th>1</th>\n",
       "      <td>RON PAUL 2012 PRESIDENTIAL CAMPAIGN COMMITTEE ...</td>\n",
       "      <td>C00495820</td>\n",
       "      <td>P80000748</td>\n",
       "    </tr>\n",
       "    <tr>\n",
       "      <th>2</th>\n",
       "      <td>BUDDY ROEMER FOR PRESIDENT, INC.</td>\n",
       "      <td>C00493692</td>\n",
       "      <td>P20002523</td>\n",
       "    </tr>\n",
       "    <tr>\n",
       "      <th>3</th>\n",
       "      <td>ROMNEY FOR PRESIDENT, INC.</td>\n",
       "      <td>C00431171</td>\n",
       "      <td>P80003353</td>\n",
       "    </tr>\n",
       "    <tr>\n",
       "      <th>4</th>\n",
       "      <td>JILL STEIN FOR PRESIDENT</td>\n",
       "      <td>C00505800</td>\n",
       "      <td>P20003984</td>\n",
       "    </tr>\n",
       "  </tbody>\n",
       "</table>\n",
       "</div>"
      ],
      "text/plain": [
       "                                                name committee_id candidate_id\n",
       "0                                  OBAMA FOR AMERICA    C00431445    P80003338\n",
       "1  RON PAUL 2012 PRESIDENTIAL CAMPAIGN COMMITTEE ...    C00495820    P80000748\n",
       "2                   BUDDY ROEMER FOR PRESIDENT, INC.    C00493692    P20002523\n",
       "3                         ROMNEY FOR PRESIDENT, INC.    C00431171    P80003353\n",
       "4                           JILL STEIN FOR PRESIDENT    C00505800    P20003984"
      ]
     },
     "execution_count": 120,
     "metadata": {},
     "output_type": "execute_result"
    }
   ],
   "source": [
    "my_2012_prez_committees_df[['name','committee_id','candidate_id']]"
   ]
  },
  {
   "cell_type": "markdown",
   "metadata": {},
   "source": [
    "## Obtaining Committee Summaries"
   ]
  },
  {
   "cell_type": "markdown",
   "metadata": {},
   "source": [
    "Now that we have identifiers for the primary campaign committees  associated with each candidate, we can obtain some interesting summary information about them. There are two different endpoints for getting financial information:\n",
    "\n",
    " - `/committee/{committee_id}/totals` (straightforward cyclewide totals)\n",
    " - `/committee/{committee_id}/reports` (actual reports submitted. advanced content!)\n",
    "    \n",
    "Let's look at the more straightforward totals endpoint:"
   ]
  },
  {
   "cell_type": "code",
   "execution_count": 0,
   "metadata": {
    "collapsed": false
   },
   "outputs": [
    {
     "name": "stderr",
     "output_type": "stream",
     "text": [
      "INFO:root:querying endpoint: http://api.open.fec.gov/v1/committee/C00431445/totals\n",
      "INFO:root:1 pages to be retrieved, with 1 records\n",
      "INFO:root:all pages retrieved\n",
      "INFO:root:querying endpoint: http://api.open.fec.gov/v1/committee/C00495820/totals\n",
      "INFO:root:1 pages to be retrieved, with 1 records\n",
      "INFO:root:all pages retrieved\n",
      "INFO:root:querying endpoint: http://api.open.fec.gov/v1/committee/C00493692/totals\n",
      "INFO:root:1 pages to be retrieved, with 1 records\n",
      "INFO:root:all pages retrieved\n",
      "INFO:root:querying endpoint: http://api.open.fec.gov/v1/committee/C00431171/totals\n",
      "INFO:root:1 pages to be retrieved, with 1 records\n",
      "INFO:root:all pages retrieved\n",
      "INFO:root:querying endpoint: http://api.open.fec.gov/v1/committee/C00505800/totals\n",
      "INFO:root:1 pages to be retrieved, with 1 records\n",
      "INFO:root:all pages retrieved\n"
     ]
    }
   ],
   "source": [
    "my_2012_prez_committee_totals = []\n",
    "\n",
    "for i, row in my_2012_prez_committees_df.iterrows():\n",
    "    endpoint = '/committee/{c}/totals'.format(c=row.committee_id)\n",
    "    for res in all_results(endpoint, {'cycle':2012}):\n",
    "        my_2012_prez_committee_totals.append(res)"
   ]
  },
  {
   "cell_type": "code",
   "execution_count": 0,
   "metadata": {
    "collapsed": true
   },
   "outputs": [],
   "source": [
    "my_2012_prez_committee_totals_df = pd.DataFrame(my_2012_prez_committee_totals)"
   ]
  },
  {
   "cell_type": "code",
   "execution_count": 0,
   "metadata": {
    "collapsed": false
   },
   "outputs": [
    {
     "data": {
      "text/html": [
       "<div style=\"max-height:1000px;max-width:1500px;overflow:auto;\">\n",
       "<table border=\"1\" class=\"dataframe\">\n",
       "  <thead>\n",
       "    <tr style=\"text-align: right;\">\n",
       "      <th></th>\n",
       "      <th>committee_id</th>\n",
       "      <th>contributions</th>\n",
       "      <th>disbursements</th>\n",
       "      <th>receipts</th>\n",
       "    </tr>\n",
       "  </thead>\n",
       "  <tbody>\n",
       "    <tr>\n",
       "      <th>0</th>\n",
       "      <td>C00431445</td>\n",
       "      <td>549594250</td>\n",
       "      <td>737507855</td>\n",
       "      <td>738503770</td>\n",
       "    </tr>\n",
       "    <tr>\n",
       "      <th>1</th>\n",
       "      <td>C00495820</td>\n",
       "      <td>39928730</td>\n",
       "      <td>39968390</td>\n",
       "      <td>41060317</td>\n",
       "    </tr>\n",
       "    <tr>\n",
       "      <th>2</th>\n",
       "      <td>C00493692</td>\n",
       "      <td>400036</td>\n",
       "      <td>739453</td>\n",
       "      <td>780900</td>\n",
       "    </tr>\n",
       "    <tr>\n",
       "      <th>3</th>\n",
       "      <td>C00431171</td>\n",
       "      <td>304959168</td>\n",
       "      <td>483073478</td>\n",
       "      <td>483452331</td>\n",
       "    </tr>\n",
       "    <tr>\n",
       "      <th>4</th>\n",
       "      <td>C00505800</td>\n",
       "      <td>819034</td>\n",
       "      <td>1122027</td>\n",
       "      <td>1263540</td>\n",
       "    </tr>\n",
       "  </tbody>\n",
       "</table>\n",
       "</div>"
      ],
      "text/plain": [
       "  committee_id  contributions  disbursements   receipts\n",
       "0    C00431445      549594250      737507855  738503770\n",
       "1    C00495820       39928730       39968390   41060317\n",
       "2    C00493692         400036         739453     780900\n",
       "3    C00431171      304959168      483073478  483452331\n",
       "4    C00505800         819034        1122027    1263540"
      ]
     },
     "execution_count": 128,
     "metadata": {},
     "output_type": "execute_result"
    }
   ],
   "source": [
    "my_2012_prez_committee_totals_df[['committee_id','contributions','disbursements','receipts',]]"
   ]
  },
  {
   "cell_type": "markdown",
   "metadata": {},
   "source": [
    "Merging these facts together with the metadata that we've already collected, we can start to produce some good comparisons:"
   ]
  },
  {
   "cell_type": "code",
   "execution_count": 0,
   "metadata": {
    "collapsed": false
   },
   "outputs": [
    {
     "data": {
      "text/plain": [
       "Index([u'active_through', u'candidate_id', u'candidate_status', u'candidate_status_full', u'cycles', u'district', u'election_years', u'incumbent_challenge', u'incumbent_challenge_full', u'name', u'office', u'office_full', u'party', u'party_full', u'state'], dtype='object')"
      ]
     },
     "execution_count": 142,
     "metadata": {},
     "output_type": "execute_result"
    }
   ],
   "source": [
    "my_2012_prez_candidates_df.columns"
   ]
  },
  {
   "cell_type": "code",
   "execution_count": 0,
   "metadata": {
    "collapsed": false
   },
   "outputs": [
    {
     "data": {
      "text/plain": [
       "<matplotlib.axes._subplots.AxesSubplot at 0x7f4a382ad110>"
      ]
     },
     "execution_count": 145,
     "metadata": {},
     "output_type": "execute_result"
    },
    {
     "data": {
      "image/png": "[encoded data removed]",
      "text/plain": [
       "<matplotlib.figure.Figure at 0x7f4a3853cb90>"
      ]
     },
     "metadata": {},
     "output_type": "display_data"
    }
   ],
   "source": [
    "comparison = my_2012_prez_committees_df.set_index('committee_id').join(\n",
    "                my_2012_prez_committee_totals_df.set_index('committee_id'), rsuffix='.cmte')\n",
    "\n",
    "comparison = comparison.set_index('candidate_id').join(\n",
    "                my_2012_prez_candidates_df.set_index('candidate_id'), rsuffix='.cand')\n",
    "\n",
    "comparison.set_index('name.cand')[\n",
    "    ['disbursements','receipts',]].plot(kind='barh')"
   ]
  },
  {
   "cell_type": "code",
   "execution_count": 0,
   "metadata": {
    "collapsed": false,
    "scrolled": true
   },
   "outputs": [
    {
     "data": {
      "text/plain": [
       "[u'candidate_ids',\n",
       " u'city',\n",
       " u'committee_type',\n",
       " u'committee_type_full',\n",
       " u'custodian_city',\n",
       " u'custodian_name_1',\n",
       " u'custodian_name_2',\n",
       " u'custodian_name_full',\n",
       " u'custodian_name_middle',\n",
       " u'custodian_name_prefix',\n",
       " u'custodian_name_suffix',\n",
       " u'custodian_name_title',\n",
       " u'custodian_phone',\n",
       " u'custodian_state',\n",
       " u'custodian_street_1',\n",
       " u'custodian_street_2',\n",
       " u'custodian_zip',\n",
       " u'cycles',\n",
       " u'designation',\n",
       " u'designation_full',\n",
       " u'email',\n",
       " u'expire_date',\n",
       " u'fax',\n",
       " u'filing_frequency',\n",
       " u'first_file_date',\n",
       " u'form_type',\n",
       " u'last_file_date',\n",
       " u'leadership_pac',\n",
       " u'load_date',\n",
       " u'lobbyist_registrant_pac',\n",
       " u'name',\n",
       " u'organization_type',\n",
       " u'organization_type_full',\n",
       " u'party',\n",
       " u'party_full',\n",
       " u'party_type',\n",
       " u'party_type_full',\n",
       " u'qualifying_date',\n",
       " u'state',\n",
       " u'state_full',\n",
       " u'street_1',\n",
       " u'street_2',\n",
       " u'treasurer_city',\n",
       " u'treasurer_name',\n",
       " u'treasurer_name_1',\n",
       " u'treasurer_name_2',\n",
       " u'treasurer_name_middle',\n",
       " u'treasurer_name_prefix',\n",
       " u'treasurer_name_suffix',\n",
       " u'treasurer_name_title',\n",
       " u'treasurer_phone',\n",
       " u'treasurer_state',\n",
       " u'treasurer_street_1',\n",
       " u'treasurer_street_2',\n",
       " u'treasurer_zip',\n",
       " u'website',\n",
       " u'zip',\n",
       " u'candidate_contribution',\n",
       " u'contribution_refunds',\n",
       " u'contributions',\n",
       " u'coverage_end_date',\n",
       " u'coverage_start_date',\n",
       " u'cycle',\n",
       " u'disbursements',\n",
       " u'exempt_legal_accounting_disbursement',\n",
       " u'federal_funds',\n",
       " u'fundraising_disbursements',\n",
       " u'individual_contributions',\n",
       " u'individual_itemized_contributions',\n",
       " u'individual_unitemized_contributions',\n",
       " u'loan_repayments_made',\n",
       " u'loans_received',\n",
       " u'loans_received_from_candidate',\n",
       " u'net_contributions',\n",
       " u'net_operating_expenditures',\n",
       " u'offsets_to_fundraising_expenditures',\n",
       " u'offsets_to_legal_accounting',\n",
       " u'offsets_to_operating_expenditures',\n",
       " u'operating_expenditures',\n",
       " u'other_disbursements',\n",
       " u'other_loans_received',\n",
       " u'other_political_committee_contributions',\n",
       " u'other_receipts',\n",
       " u'political_party_committee_contributions',\n",
       " u'receipts',\n",
       " u'refunded_individual_contributions',\n",
       " u'refunded_other_political_committee_contributions',\n",
       " u'refunded_political_party_committee_contributions',\n",
       " u'repayments_loans_made_by_candidate',\n",
       " u'repayments_other_loans',\n",
       " u'total_offsets_to_operating_expenditures',\n",
       " u'transfers_from_affiliated_committee',\n",
       " u'transfers_to_other_authorized_committee',\n",
       " u'active_through',\n",
       " u'candidate_status',\n",
       " u'candidate_status_full',\n",
       " u'cycles.cand',\n",
       " u'district',\n",
       " u'election_years',\n",
       " u'incumbent_challenge',\n",
       " u'incumbent_challenge_full',\n",
       " u'name.cand',\n",
       " u'office',\n",
       " u'office_full',\n",
       " u'party.cand',\n",
       " u'party_full.cand',\n",
       " u'state.cand']"
      ]
     },
     "execution_count": 197,
     "metadata": {},
     "output_type": "execute_result"
    }
   ],
   "source": [
    "[c for c in comparison.columns]"
   ]
  },
  {
   "cell_type": "code",
   "execution_count": 0,
   "metadata": {
    "collapsed": false
   },
   "outputs": [
    {
     "data": {
      "text/html": [
       "<div style=\"max-height:1000px;max-width:1500px;overflow:auto;\">\n",
       "<table border=\"1\" class=\"dataframe\">\n",
       "  <thead>\n",
       "    <tr style=\"text-align: right;\">\n",
       "      <th>name.cand</th>\n",
       "      <th>OBAMA, BARACK</th>\n",
       "      <th>PAUL, RON</th>\n",
       "      <th>ROEMER, CHARLES E. ''BUDDY'' III</th>\n",
       "      <th>ROMNEY / PAUL D. RYAN, MITT</th>\n",
       "      <th>STEIN, JILL</th>\n",
       "    </tr>\n",
       "  </thead>\n",
       "  <tbody>\n",
       "    <tr>\n",
       "      <th>individual_itemized_contributions</th>\n",
       "      <td>315170951</td>\n",
       "      <td>21916605</td>\n",
       "      <td>374937</td>\n",
       "      <td>103245581</td>\n",
       "      <td>386655</td>\n",
       "    </tr>\n",
       "    <tr>\n",
       "      <th>individual_unitemized_contributions</th>\n",
       "      <td>234409690</td>\n",
       "      <td>18009455</td>\n",
       "      <td>0</td>\n",
       "      <td>25499257</td>\n",
       "      <td>427592</td>\n",
       "    </tr>\n",
       "    <tr>\n",
       "      <th>transfers_from_affiliated_committee</th>\n",
       "      <td>181700000</td>\n",
       "      <td>1000500</td>\n",
       "      <td>0</td>\n",
       "      <td>146516071</td>\n",
       "      <td>0</td>\n",
       "    </tr>\n",
       "    <tr>\n",
       "      <th>other_political_committee_contributions</th>\n",
       "      <td>0</td>\n",
       "      <td>2670</td>\n",
       "      <td>0</td>\n",
       "      <td>1126219</td>\n",
       "      <td>1786</td>\n",
       "    </tr>\n",
       "    <tr>\n",
       "      <th>candidate_contribution</th>\n",
       "      <td>5000</td>\n",
       "      <td>0</td>\n",
       "      <td>25100</td>\n",
       "      <td>0</td>\n",
       "      <td>0</td>\n",
       "    </tr>\n",
       "    <tr>\n",
       "      <th>other_loans_received</th>\n",
       "      <td>0</td>\n",
       "      <td>0</td>\n",
       "      <td>0</td>\n",
       "      <td>20000000</td>\n",
       "      <td>0</td>\n",
       "    </tr>\n",
       "    <tr>\n",
       "      <th>offsets_to_operating_expenditures</th>\n",
       "      <td>7130282</td>\n",
       "      <td>124869</td>\n",
       "      <td>4002</td>\n",
       "      <td>9728627</td>\n",
       "      <td>8374</td>\n",
       "    </tr>\n",
       "  </tbody>\n",
       "</table>\n",
       "</div>"
      ],
      "text/plain": [
       "name.cand                                OBAMA, BARACK  PAUL, RON  \\\n",
       "individual_itemized_contributions            315170951   21916605   \n",
       "individual_unitemized_contributions          234409690   18009455   \n",
       "transfers_from_affiliated_committee          181700000    1000500   \n",
       "other_political_committee_contributions              0       2670   \n",
       "candidate_contribution                            5000          0   \n",
       "other_loans_received                                 0          0   \n",
       "offsets_to_operating_expenditures              7130282     124869   \n",
       "\n",
       "name.cand                                ROEMER, CHARLES E. ''BUDDY'' III  \\\n",
       "individual_itemized_contributions                                  374937   \n",
       "individual_unitemized_contributions                                     0   \n",
       "transfers_from_affiliated_committee                                     0   \n",
       "other_political_committee_contributions                                 0   \n",
       "candidate_contribution                                              25100   \n",
       "other_loans_received                                                    0   \n",
       "offsets_to_operating_expenditures                                    4002   \n",
       "\n",
       "name.cand                                ROMNEY / PAUL D. RYAN, MITT  \\\n",
       "individual_itemized_contributions                          103245581   \n",
       "individual_unitemized_contributions                         25499257   \n",
       "transfers_from_affiliated_committee                        146516071   \n",
       "other_political_committee_contributions                      1126219   \n",
       "candidate_contribution                                             0   \n",
       "other_loans_received                                        20000000   \n",
       "offsets_to_operating_expenditures                            9728627   \n",
       "\n",
       "name.cand                                STEIN, JILL  \n",
       "individual_itemized_contributions             386655  \n",
       "individual_unitemized_contributions           427592  \n",
       "transfers_from_affiliated_committee                0  \n",
       "other_political_committee_contributions         1786  \n",
       "candidate_contribution                             0  \n",
       "other_loans_received                               0  \n",
       "offsets_to_operating_expenditures               8374  "
      ]
     },
     "execution_count": 199,
     "metadata": {},
     "output_type": "execute_result"
    }
   ],
   "source": [
    "comparison.set_index('name.cand')[\n",
    "    ['individual_itemized_contributions',\n",
    "     'individual_unitemized_contributions',\n",
    "     'transfers_from_affiliated_committee',\n",
    "     'other_political_committee_contributions',\n",
    "     'candidate_contribution',\n",
    "     'other_loans_received',\n",
    "     'offsets_to_operating_expenditures'\n",
    "    ]\n",
    "].T"
   ]
  },
  {
   "cell_type": "code",
   "execution_count": 0,
   "metadata": {
    "collapsed": false
   },
   "outputs": [
    {
     "data": {
      "text/plain": [
       "<matplotlib.axes._subplots.AxesSubplot at 0x7f4a3120c5d0>"
      ]
     },
     "execution_count": 196,
     "metadata": {},
     "output_type": "execute_result"
    },
    {
     "data": {
      "image/png": "[encoded data removed]",
      "text/plain": [
       "<matplotlib.figure.Figure at 0x7f4a313f94d0>"
      ]
     },
     "metadata": {},
     "output_type": "display_data"
    }
   ],
   "source": [
    "comparison.set_index('name.cand')[\n",
    "    [\n",
    "     'individual_itemized_contributions',\n",
    "     'individual_unitemized_contributions',\n",
    "     'transfers_from_affiliated_committee',\n",
    "    ]\n",
    "].plot(kind='barh', stacked=True, figsize=(6,8))"
   ]
  },
  {
   "cell_type": "markdown",
   "metadata": {},
   "source": [
    "## The Whole Picture"
   ]
  },
  {
   "cell_type": "markdown",
   "metadata": {},
   "source": [
    "Unfortunately, this is only the part of the picture when we are endeavoring to describe the campaign spending associated with a particular race."
   ]
  }
 ],
 "metadata": {
  "kernelspec": {
   "display_name": "Python 2",
   "language": "python",
   "name": "python2"
  },
  "language_info": {
   "codemirror_mode": {
    "name": "ipython",
    "version": 2
   },
   "file_extension": ".py",
   "mimetype": "text/x-python",
   "name": "python",
   "nbconvert_exporter": "python",
   "pygments_lexer": "ipython2",
   "version": "2.7.8"
  }
 },
 "nbformat": 4,
 "nbformat_minor": 0
}
